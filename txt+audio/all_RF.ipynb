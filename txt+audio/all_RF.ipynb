{
 "cells": [
  {
   "cell_type": "code",
   "execution_count": 1,
   "metadata": {},
   "outputs": [],
   "source": [
    "import pandas as pd\n",
    "import numpy as np\n",
    "import csv\n",
    "from sklearn import preprocessing\n",
    "from sklearn import metrics, ensemble\n",
    "from sklearn.feature_extraction.text import CountVectorizer"
   ]
  },
  {
   "cell_type": "code",
   "execution_count": 2,
   "metadata": {},
   "outputs": [],
   "source": [
    "# This function should transform data into a usable format \n",
    "def audioProcess(path):\n",
    "    data = pd.read_csv(path)\n",
    "    #get audio data from loudness to vect148\n",
    "    audioData = data.loc[:, \"loudness\":\"vect_148\"]\n",
    "    \n",
    "    # normalization\n",
    "    audioData=(audioData-audioData.mean())/audioData.std()\n",
    "    \n",
    "    return audioData.values.tolist()"
   ]
  },
  {
   "cell_type": "code",
   "execution_count": 3,
   "metadata": {},
   "outputs": [],
   "source": [
    "# This function should transform data into a usable format \n",
    "def textProcess(path):\n",
    "    data = pd.read_csv(path)\n",
    "    #get audio data from vect1 to vect148\n",
    "    textData = data.loc[:, \"tags\"]\n",
    "    \n",
    "    return textData.values.tolist()"
   ]
  },
  {
   "cell_type": "code",
   "execution_count": 4,
   "metadata": {},
   "outputs": [],
   "source": [
    "# This function should transform data into a usable format \n",
    "def labelProcess(path):\n",
    "    data = pd.read_csv(path)\n",
    "    #get classes\n",
    "    labels = data.loc[:,\"genre\"].values.tolist()\n",
    "    \n",
    "    \n",
    "    return labels"
   ]
  },
  {
   "cell_type": "code",
   "execution_count": 5,
   "metadata": {},
   "outputs": [],
   "source": [
    "def train(trainData, trainLabel, model):\n",
    "    model.fit(trainData, trainLabel)\n",
    "                 \n",
    "    print(\"train finish\")"
   ]
  },
  {
   "cell_type": "code",
   "execution_count": 6,
   "metadata": {},
   "outputs": [],
   "source": [
    "def predict(testData, model):\n",
    "    prediction = model.predict(testData)\n",
    "    return prediction"
   ]
  },
  {
   "cell_type": "code",
   "execution_count": 7,
   "metadata": {},
   "outputs": [],
   "source": [
    "def evaluate(test_label, prediction):\n",
    "    accuracy = metrics.accuracy_score(test_label, prediction)\n",
    "    return accuracy"
   ]
  },
  {
   "cell_type": "markdown",
   "metadata": {},
   "source": [
    "DATA Preprocess"
   ]
  },
  {
   "cell_type": "code",
   "execution_count": 8,
   "metadata": {},
   "outputs": [],
   "source": [
    "trainText = np.array(textProcess(r\"D:\\Unimelb\\Introduction to Machine Learning\\assignment2\\dataset\\dataset\\train_features.csv\"))\n",
    "validText= np.array(textProcess(r\"D:\\Unimelb\\Introduction to Machine Learning\\assignment2\\dataset\\dataset\\valid_features.csv\"))\n",
    "testText = np.array(textProcess(r\"D:\\Unimelb\\Introduction to Machine Learning\\assignment2\\dataset\\dataset\\test_features.csv\"))"
   ]
  },
  {
   "cell_type": "code",
   "execution_count": 9,
   "metadata": {},
   "outputs": [],
   "source": [
    "#Create BOW\n",
    "trainTxt = []\n",
    "validTxt = []\n",
    "testTxt = []\n",
    "for i in range(len(trainText)):\n",
    "    trainTxt.append(trainText[i].replace(\",\", \"\"))\n",
    "    \n",
    "for i in range(len(validText)):\n",
    "    validTxt.append(validText[i].replace(\",\", \"\"))   \n",
    "    \n",
    "for i in range(len(testText)):\n",
    "    testTxt.append(testText[i].replace(\",\", \"\"))   \n",
    "    \n",
    "vectorizer = CountVectorizer() \n",
    "trainVectors = vectorizer.fit_transform(trainTxt)\n",
    "validVectors = vectorizer.transform(validTxt)\n",
    "testVectors = vectorizer.transform(testTxt)"
   ]
  },
  {
   "cell_type": "code",
   "execution_count": 11,
   "metadata": {},
   "outputs": [],
   "source": [
    "trainAudio = np.array(audioProcess(r\"D:\\Unimelb\\Introduction to Machine Learning\\assignment2\\dataset\\dataset\\train_features.csv\"))\n",
    "validAudio = np.array(audioProcess(r\"D:\\Unimelb\\Introduction to Machine Learning\\assignment2\\dataset\\dataset\\valid_features.csv\"))\n",
    "testAudio = np.array(audioProcess(r\"D:\\Unimelb\\Introduction to Machine Learning\\assignment2\\dataset\\dataset\\test_features.csv\"))"
   ]
  },
  {
   "cell_type": "code",
   "execution_count": 12,
   "metadata": {},
   "outputs": [],
   "source": [
    "trainData = np.column_stack((trainVectors.toarray(),trainAudio))\n",
    "validData = np.column_stack((validVectors.toarray(),validAudio))\n",
    "testData = np.column_stack((testVectors.toarray(),testAudio))"
   ]
  },
  {
   "cell_type": "code",
   "execution_count": 13,
   "metadata": {},
   "outputs": [],
   "source": [
    "trainLabel = labelProcess(r\"D:\\Unimelb\\Introduction to Machine Learning\\assignment2\\dataset\\dataset\\train_labels.csv\")\n",
    "validLabel = labelProcess(r\"D:\\Unimelb\\Introduction to Machine Learning\\assignment2\\dataset\\dataset\\valid_labels.csv\")"
   ]
  },
  {
   "cell_type": "markdown",
   "metadata": {},
   "source": [
    "Training"
   ]
  },
  {
   "cell_type": "code",
   "execution_count": 14,
   "metadata": {},
   "outputs": [
    {
     "name": "stdout",
     "output_type": "stream",
     "text": [
      "train finish\n"
     ]
    }
   ],
   "source": [
    "n_estimators = 77\n",
    "forest = ensemble.RandomForestClassifier(n_estimators = n_estimators)\n",
    "train(trainData, trainLabel, forest)"
   ]
  },
  {
   "cell_type": "code",
   "execution_count": 15,
   "metadata": {},
   "outputs": [],
   "source": [
    "prediction = predict(validData, forest)"
   ]
  },
  {
   "cell_type": "code",
   "execution_count": 16,
   "metadata": {},
   "outputs": [
    {
     "name": "stdout",
     "output_type": "stream",
     "text": [
      "0.64\n"
     ]
    }
   ],
   "source": [
    "accuracy = evaluate(validLabel, prediction)\n",
    "print(accuracy)"
   ]
  },
  {
   "cell_type": "markdown",
   "metadata": {},
   "source": [
    "Predict"
   ]
  },
  {
   "cell_type": "code",
   "execution_count": 17,
   "metadata": {},
   "outputs": [],
   "source": [
    "trackID = pd.read_csv(r\"D:\\Unimelb\\Introduction to Machine Learning\\assignment2\\dataset\\dataset\\test_features.csv\").loc[:, \"trackID\"].values.tolist()\n",
    "prediction = predict(testData, forest)"
   ]
  },
  {
   "cell_type": "code",
   "execution_count": 18,
   "metadata": {},
   "outputs": [],
   "source": [
    "result = list(zip(trackID,prediction))"
   ]
  },
  {
   "cell_type": "code",
   "execution_count": 20,
   "metadata": {},
   "outputs": [],
   "source": [
    "with open(\"all_RF_outPut.csv\", 'w', newline='') as csvFile:\n",
    "    writer = csv.writer(csvFile)\n",
    "    writer.writerow([\"trackID\", \"genre\"])\n",
    "    writer.writerows(result)"
   ]
  },
  {
   "cell_type": "markdown",
   "metadata": {},
   "source": [
    "n_estimators optimization"
   ]
  },
  {
   "cell_type": "code",
   "execution_count": 17,
   "metadata": {},
   "outputs": [],
   "source": [
    "#training\n",
    "accuracies=[]\n",
    "\n",
    "for k in range(1,101):\n",
    "    forest = ensemble.RandomForestClassifier(n_estimators = k)\n",
    "    forest.fit(trainData, trainLabel)\n",
    "    prediction = forest.predict(validData)\n",
    "    accuracy = metrics.accuracy_score(validLabel, prediction)\n",
    "    accuracies.append(accuracy)"
   ]
  },
  {
   "cell_type": "code",
   "execution_count": 18,
   "metadata": {},
   "outputs": [
    {
     "name": "stdout",
     "output_type": "stream",
     "text": [
      "The optimal value for n_estimators is 77\n"
     ]
    },
    {
     "data": {
      "image/png": "[encoded data removed]",
      "text/plain": [
       "<Figure size 432x288 with 1 Axes>"
      ]
     },
     "metadata": {
      "needs_background": "light"
     },
     "output_type": "display_data"
    }
   ],
   "source": [
    "import matplotlib.pyplot as plt\n",
    "plt.plot(range(1,101), accuracies)\n",
    "print(\"The optimal value for n_estimators is {}\".format(accuracies.index(max(accuracies)) + 1))"
   ]
  },
  {
   "cell_type": "code",
   "execution_count": 19,
   "metadata": {},
   "outputs": [
    {
     "data": {
      "text/plain": [
       "0.6466666666666666"
      ]
     },
     "execution_count": 19,
     "metadata": {},
     "output_type": "execute_result"
    }
   ],
   "source": [
    "max(accuracies)"
   ]
  },
  {
   "cell_type": "code",
   "execution_count": null,
   "metadata": {},
   "outputs": [],
   "source": []
  }
 ],
 "metadata": {
  "kernelspec": {
   "display_name": "Python 3",
   "language": "python",
   "name": "python3"
  },
  "language_info": {
   "codemirror_mode": {
    "name": "ipython",
    "version": 3
   },
   "file_extension": ".py",
   "mimetype": "text/x-python",
   "name": "python",
   "nbconvert_exporter": "python",
   "pygments_lexer": "ipython3",
   "version": "3.6.10"
  }
 },
 "nbformat": 4,
 "nbformat_minor": 4
}

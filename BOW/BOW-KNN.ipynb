{
 "cells": [
  {
   "cell_type": "code",
   "execution_count": 19,
   "metadata": {},
   "outputs": [],
   "source": [
    "import pandas as pd\n",
    "import csv\n",
    "import numpy as np\n",
    "from sklearn.feature_extraction.text import CountVectorizer\n",
    "from sklearn.neighbors import KNeighborsClassifier\n",
    "from sklearn import preprocessing\n",
    "from sklearn import metrics"
   ]
  },
  {
   "cell_type": "code",
   "execution_count": 2,
   "metadata": {},
   "outputs": [],
   "source": [
    "# This function should transform data into a usable format \n",
    "def featureProcess(path):\n",
    "    data = pd.read_csv(path)\n",
    "    #get audio data from vect1 to vect148\n",
    "    textData = data.loc[:, \"tags\"]\n",
    "    \n",
    "    return textData.values.tolist()"
   ]
  },
  {
   "cell_type": "code",
   "execution_count": 3,
   "metadata": {},
   "outputs": [],
   "source": [
    "# This function should transform data into a usable format \n",
    "def labelProcess(path):\n",
    "    data = pd.read_csv(path)\n",
    "    #get classes\n",
    "    labels = data.loc[:,\"genre\"].values.tolist()\n",
    "    \n",
    "    return labels"
   ]
  },
  {
   "cell_type": "code",
   "execution_count": 4,
   "metadata": {},
   "outputs": [],
   "source": [
    "def train(trainData, trainLabel, model):\n",
    "    model.fit(trainData, trainLabel)\n",
    "                 \n",
    "    print(\"train finish\")"
   ]
  },
  {
   "cell_type": "code",
   "execution_count": 5,
   "metadata": {},
   "outputs": [],
   "source": [
    "def predict(testData, model):\n",
    "    prediction = model.predict(testData)\n",
    "    return prediction"
   ]
  },
  {
   "cell_type": "code",
   "execution_count": 6,
   "metadata": {},
   "outputs": [],
   "source": [
    "def evaluate(test_label, prediction):\n",
    "    accuracy = metrics.accuracy_score(test_label, prediction)\n",
    "    return accuracy"
   ]
  },
  {
   "cell_type": "markdown",
   "metadata": {},
   "source": [
    "DATA Preprocess"
   ]
  },
  {
   "cell_type": "code",
   "execution_count": 7,
   "metadata": {},
   "outputs": [],
   "source": [
    "trainData = np.array(featureProcess(r\"D:\\Unimelb\\Introduction to Machine Learning\\assignment2\\dataset\\dataset\\train_features.csv\"))\n",
    "validData = np.array(featureProcess(r\"D:\\Unimelb\\Introduction to Machine Learning\\assignment2\\dataset\\dataset\\valid_features.csv\"))\n",
    "testData = np.array(featureProcess(r\"D:\\Unimelb\\Introduction to Machine Learning\\assignment2\\dataset\\dataset\\test_features.csv\"))"
   ]
  },
  {
   "cell_type": "code",
   "execution_count": 10,
   "metadata": {},
   "outputs": [],
   "source": [
    "#create BOW\n",
    "trainTxt = []\n",
    "validTxt = []\n",
    "testTxt = []\n",
    "for i in range(len(trainData)):\n",
    "    trainTxt.append(trainData[i].replace(\",\", \"\"))\n",
    "    \n",
    "for i in range(len(validData)):\n",
    "    validTxt.append(validData[i].replace(\",\", \"\"))   \n",
    "    \n",
    "for i in range(len(testData)):\n",
    "    testTxt.append(testData[i].replace(\",\", \"\"))   \n",
    "    \n",
    "vectorizer = CountVectorizer() \n",
    "trainVectors = vectorizer.fit_transform(trainTxt)\n",
    "validVectors = vectorizer.transform(validTxt)\n",
    "testVectors = vectorizer.transform(testTxt)"
   ]
  },
  {
   "cell_type": "code",
   "execution_count": 11,
   "metadata": {},
   "outputs": [],
   "source": [
    "trainLabel = labelProcess(r\"D:\\Unimelb\\Introduction to Machine Learning\\assignment2\\dataset\\dataset\\train_labels.csv\")\n",
    "validLabel = labelProcess(r\"D:\\Unimelb\\Introduction to Machine Learning\\assignment2\\dataset\\dataset\\valid_labels.csv\")"
   ]
  },
  {
   "cell_type": "markdown",
   "metadata": {},
   "source": [
    "Training"
   ]
  },
  {
   "cell_type": "code",
   "execution_count": 12,
   "metadata": {},
   "outputs": [
    {
     "name": "stdout",
     "output_type": "stream",
     "text": [
      "train finish\n"
     ]
    }
   ],
   "source": [
    "k = 6\n",
    "classifier = KNeighborsClassifier(n_neighbors=k)\n",
    "train(trainVectors, trainLabel, classifier)"
   ]
  },
  {
   "cell_type": "code",
   "execution_count": 13,
   "metadata": {},
   "outputs": [
    {
     "name": "stdout",
     "output_type": "stream",
     "text": [
      "['soul and reggae' 'classic pop and rock' 'classic pop and rock'\n",
      " 'dance and electronica' 'dance and electronica' 'metal' 'metal' 'pop'\n",
      " 'pop' 'classic pop and rock' 'jazz and blues' 'punk' 'pop' 'pop'\n",
      " 'classic pop and rock' 'classic pop and rock' 'dance and electronica'\n",
      " 'pop' 'punk' 'dance and electronica' 'pop' 'classic pop and rock' 'pop'\n",
      " 'dance and electronica' 'dance and electronica' 'pop'\n",
      " 'classic pop and rock' 'dance and electronica' 'dance and electronica'\n",
      " 'pop' 'dance and electronica' 'pop' 'pop' 'dance and electronica' 'pop'\n",
      " 'dance and electronica' 'dance and electronica' 'dance and electronica'\n",
      " 'pop' 'dance and electronica' 'dance and electronica'\n",
      " 'classic pop and rock' 'classic pop and rock' 'metal' 'punk' 'metal'\n",
      " 'punk' 'pop' 'pop' 'dance and electronica' 'classic pop and rock' 'pop'\n",
      " 'dance and electronica' 'classic pop and rock' 'dance and electronica'\n",
      " 'dance and electronica' 'classic pop and rock' 'punk' 'punk' 'pop'\n",
      " 'classic pop and rock' 'pop' 'dance and electronica'\n",
      " 'dance and electronica' 'classic pop and rock' 'pop' 'pop' 'pop' 'pop'\n",
      " 'classic pop and rock' 'classic pop and rock' 'folk'\n",
      " 'classic pop and rock' 'pop' 'dance and electronica'\n",
      " 'dance and electronica' 'classic pop and rock' 'classic pop and rock'\n",
      " 'classic pop and rock' 'dance and electronica' 'pop'\n",
      " 'dance and electronica' 'dance and electronica' 'dance and electronica'\n",
      " 'pop' 'folk' 'classic pop and rock' 'pop' 'folk' 'dance and electronica'\n",
      " 'pop' 'dance and electronica' 'dance and electronica'\n",
      " 'classic pop and rock' 'folk' 'pop' 'classic pop and rock' 'punk'\n",
      " 'classic pop and rock' 'dance and electronica' 'pop' 'metal' 'pop'\n",
      " 'classic pop and rock' 'folk' 'dance and electronica'\n",
      " 'dance and electronica' 'pop' 'dance and electronica'\n",
      " 'classic pop and rock' 'classic pop and rock' 'pop'\n",
      " 'classic pop and rock' 'dance and electronica' 'pop' 'punk'\n",
      " 'dance and electronica' 'dance and electronica' 'classic pop and rock'\n",
      " 'dance and electronica' 'metal' 'dance and electronica'\n",
      " 'dance and electronica' 'classic pop and rock' 'folk'\n",
      " 'dance and electronica' 'pop' 'punk' 'dance and electronica' 'pop'\n",
      " 'dance and electronica' 'folk' 'pop' 'pop' 'folk' 'dance and electronica'\n",
      " 'dance and electronica' 'pop' 'dance and electronica'\n",
      " 'classic pop and rock' 'classic pop and rock' 'pop' 'pop'\n",
      " 'dance and electronica' 'dance and electronica' 'folk'\n",
      " 'dance and electronica' 'pop' 'dance and electronica' 'folk' 'metal'\n",
      " 'classic pop and rock' 'classic pop and rock' 'metal'\n",
      " 'dance and electronica' 'classic pop and rock' 'classic pop and rock'\n",
      " 'classic pop and rock' 'dance and electronica' 'pop' 'metal'\n",
      " 'dance and electronica' 'dance and electronica' 'dance and electronica'\n",
      " 'pop' 'classic pop and rock' 'dance and electronica' 'pop'\n",
      " 'dance and electronica' 'dance and electronica' 'dance and electronica'\n",
      " 'folk' 'pop' 'punk' 'classic pop and rock' 'pop' 'dance and electronica'\n",
      " 'classic pop and rock' 'dance and electronica' 'dance and electronica'\n",
      " 'punk' 'dance and electronica' 'punk' 'dance and electronica'\n",
      " 'classic pop and rock' 'classic pop and rock' 'dance and electronica'\n",
      " 'dance and electronica' 'pop' 'pop' 'metal' 'classic pop and rock' 'punk'\n",
      " 'dance and electronica' 'classic pop and rock' 'pop' 'pop'\n",
      " 'dance and electronica' 'dance and electronica' 'classic pop and rock'\n",
      " 'pop' 'classic pop and rock' 'punk' 'soul and reggae' 'punk' 'pop' 'folk'\n",
      " 'dance and electronica' 'punk' 'dance and electronica'\n",
      " 'dance and electronica' 'classic pop and rock' 'classic pop and rock'\n",
      " 'pop' 'classic pop and rock' 'dance and electronica' 'pop' 'folk' 'pop'\n",
      " 'pop' 'dance and electronica' 'pop' 'metal' 'dance and electronica'\n",
      " 'metal' 'pop' 'pop' 'pop' 'dance and electronica' 'folk'\n",
      " 'dance and electronica' 'folk' 'pop' 'dance and electronica'\n",
      " 'dance and electronica' 'dance and electronica' 'pop' 'pop' 'punk' 'folk'\n",
      " 'punk' 'folk' 'dance and electronica' 'classic pop and rock'\n",
      " 'dance and electronica' 'dance and electronica' 'classic pop and rock'\n",
      " 'dance and electronica' 'classic pop and rock' 'dance and electronica'\n",
      " 'dance and electronica' 'dance and electronica' 'classic pop and rock'\n",
      " 'dance and electronica' 'dance and electronica' 'pop'\n",
      " 'classic pop and rock' 'dance and electronica' 'folk'\n",
      " 'dance and electronica' 'dance and electronica' 'pop'\n",
      " 'classic pop and rock' 'dance and electronica' 'pop'\n",
      " 'dance and electronica' 'pop' 'dance and electronica'\n",
      " 'dance and electronica' 'dance and electronica' 'folk'\n",
      " 'dance and electronica' 'punk' 'dance and electronica'\n",
      " 'classic pop and rock' 'dance and electronica' 'dance and electronica'\n",
      " 'dance and electronica' 'punk' 'pop' 'dance and electronica' 'folk'\n",
      " 'punk' 'dance and electronica' 'classic pop and rock'\n",
      " 'dance and electronica' 'dance and electronica' 'dance and electronica'\n",
      " 'pop' 'pop' 'folk' 'classic pop and rock' 'classic pop and rock' 'folk'\n",
      " 'punk' 'dance and electronica' 'pop' 'dance and electronica'\n",
      " 'soul and reggae' 'pop' 'folk' 'metal' 'metal' 'classic pop and rock'\n",
      " 'metal' 'pop' 'pop' 'pop' 'dance and electronica' 'pop'\n",
      " 'dance and electronica' 'classic pop and rock' 'metal'\n",
      " 'dance and electronica' 'pop' 'jazz and blues' 'pop'\n",
      " 'dance and electronica' 'folk' 'pop' 'pop' 'classic pop and rock' 'pop'\n",
      " 'dance and electronica' 'punk' 'pop' 'punk' 'dance and electronica' 'pop'\n",
      " 'classic pop and rock' 'punk' 'dance and electronica' 'pop' 'pop' 'pop'\n",
      " 'classic pop and rock' 'pop' 'classic pop and rock'\n",
      " 'dance and electronica' 'pop' 'pop' 'dance and electronica'\n",
      " 'soul and reggae' 'dance and electronica' 'metal' 'dance and electronica'\n",
      " 'pop' 'folk' 'pop' 'folk' 'punk' 'dance and electronica'\n",
      " 'dance and electronica' 'punk' 'pop' 'classic pop and rock'\n",
      " 'dance and electronica' 'dance and electronica' 'pop'\n",
      " 'classic pop and rock' 'folk' 'classic pop and rock'\n",
      " 'dance and electronica' 'classic pop and rock' 'classic pop and rock'\n",
      " 'pop' 'dance and electronica' 'classic pop and rock' 'folk'\n",
      " 'dance and electronica' 'pop' 'dance and electronica'\n",
      " 'dance and electronica' 'dance and electronica' 'classic pop and rock'\n",
      " 'metal' 'classic pop and rock' 'classic pop and rock' 'pop'\n",
      " 'dance and electronica' 'dance and electronica' 'folk'\n",
      " 'dance and electronica' 'classic pop and rock' 'folk'\n",
      " 'dance and electronica' 'dance and electronica' 'pop' 'pop'\n",
      " 'dance and electronica' 'punk' 'dance and electronica'\n",
      " 'dance and electronica' 'folk' 'dance and electronica' 'punk' 'pop' 'pop'\n",
      " 'classic pop and rock' 'metal' 'pop' 'pop' 'folk' 'pop'\n",
      " 'classic pop and rock' 'classic pop and rock' 'pop'\n",
      " 'classic pop and rock' 'dance and electronica' 'dance and electronica'\n",
      " 'classic pop and rock' 'dance and electronica' 'classic pop and rock'\n",
      " 'folk' 'classic pop and rock' 'pop' 'pop' 'folk' 'pop' 'pop'\n",
      " 'classic pop and rock' 'folk' 'dance and electronica'\n",
      " 'dance and electronica' 'punk' 'folk' 'pop' 'punk'\n",
      " 'dance and electronica' 'dance and electronica' 'classic pop and rock'\n",
      " 'dance and electronica' 'classic pop and rock' 'dance and electronica'\n",
      " 'punk' 'metal' 'classic pop and rock' 'soul and reggae' 'pop'\n",
      " 'classic pop and rock' 'classic pop and rock' 'pop' 'pop' 'metal'\n",
      " 'dance and electronica' 'dance and electronica' 'classic pop and rock'\n",
      " 'punk' 'dance and electronica' 'dance and electronica']\n"
     ]
    }
   ],
   "source": [
    "prediction = predict(validVectors, classifier)"
   ]
  },
  {
   "cell_type": "code",
   "execution_count": 14,
   "metadata": {},
   "outputs": [
    {
     "name": "stdout",
     "output_type": "stream",
     "text": [
      "0.30444444444444446\n"
     ]
    }
   ],
   "source": [
    "accuracy = evaluate(validLabel, prediction)\n",
    "print(accuracy)"
   ]
  },
  {
   "cell_type": "markdown",
   "metadata": {},
   "source": [
    "Predict"
   ]
  },
  {
   "cell_type": "code",
   "execution_count": null,
   "metadata": {},
   "outputs": [],
   "source": [
    "trackID = pd.read_csv(r\"D:\\Unimelb\\Introduction to Machine Learning\\assignment2\\dataset\\dataset\\test_features.csv\").loc[:, \"trackID\"].values.tolist()\n",
    "prediction = predict(testVectors, classifier)\n",
    "result = list(zip(trackID,prediction))"
   ]
  },
  {
   "cell_type": "code",
   "execution_count": null,
   "metadata": {},
   "outputs": [],
   "source": [
    "with open(\"BOW-KNN_outPut.csv\", 'w', newline='') as csvFile:\n",
    "    writer = csv.writer(csvFile)\n",
    "    writer.writerow([\"trackID\", \"genre\"])\n",
    "    writer.writerows(result)"
   ]
  },
  {
   "cell_type": "markdown",
   "metadata": {},
   "source": [
    "K's optimization"
   ]
  },
  {
   "cell_type": "code",
   "execution_count": 14,
   "metadata": {},
   "outputs": [],
   "source": [
    "accuracies=[]\n",
    "\n",
    "for k in range(1,101):\n",
    "    classifier = KNeighborsClassifier(n_neighbors=k)\n",
    "    classifier.fit(trainVectors, trainLabel)\n",
    "    prediction = classifier.predict(validVectors)\n",
    "    accuracy = metrics.accuracy_score(validLabel, prediction)\n",
    "    accuracies.append(accuracy)"
   ]
  },
  {
   "cell_type": "code",
   "execution_count": 15,
   "metadata": {},
   "outputs": [
    {
     "name": "stdout",
     "output_type": "stream",
     "text": [
      "The optimal value for K is 6\n"
     ]
    },
    {
     "data": {
      "image/png": "[encoded data removed]",
      "text/plain": [
       "<Figure size 432x288 with 1 Axes>"
      ]
     },
     "metadata": {
      "needs_background": "light"
     },
     "output_type": "display_data"
    }
   ],
   "source": [
    "import matplotlib.pyplot as plt\n",
    "plt.plot(range(1,101), accuracies)\n",
    "print(\"The optimal value for K is {}\".format(accuracies.index(max(accuracies)) + 1))"
   ]
  },
  {
   "cell_type": "code",
   "execution_count": null,
   "metadata": {},
   "outputs": [],
   "source": [
    "max(accuracies)"
   ]
  },
  {
   "cell_type": "code",
   "execution_count": null,
   "metadata": {},
   "outputs": [],
   "source": []
  }
 ],
 "metadata": {
  "kernelspec": {
   "display_name": "Python 3",
   "language": "python",
   "name": "python3"
  },
  "language_info": {
   "codemirror_mode": {
    "name": "ipython",
    "version": 3
   },
   "file_extension": ".py",
   "mimetype": "text/x-python",
   "name": "python",
   "nbconvert_exporter": "python",
   "pygments_lexer": "ipython3",
   "version": "3.6.10"
  }
 },
 "nbformat": 4,
 "nbformat_minor": 4
}

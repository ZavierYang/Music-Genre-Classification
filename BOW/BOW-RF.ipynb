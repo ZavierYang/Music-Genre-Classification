{
 "cells": [
  {
   "cell_type": "code",
   "execution_count": 19,
   "metadata": {},
   "outputs": [],
   "source": [
    "import pandas as pd\n",
    "import csv\n",
    "import numpy as np\n",
    "from sklearn import preprocessing\n",
    "from sklearn import metrics, ensemble\n",
    "from sklearn.feature_extraction.text import CountVectorizer"
   ]
  },
  {
   "cell_type": "code",
   "execution_count": 2,
   "metadata": {},
   "outputs": [],
   "source": [
    "# This function should transform data into a usable format \n",
    "def featureProcess(path):\n",
    "    data = pd.read_csv(path)\n",
    "    #get audio data from vect1 to vect148\n",
    "    textData = data.loc[:, \"tags\"]\n",
    "    \n",
    "    return textData.values.tolist()"
   ]
  },
  {
   "cell_type": "code",
   "execution_count": 3,
   "metadata": {},
   "outputs": [],
   "source": [
    "# This function should transform data into a usable format \n",
    "def labelProcess(path):\n",
    "    data = pd.read_csv(path)\n",
    "    #get classes\n",
    "    labels = data.loc[:,\"genre\"].values.tolist()\n",
    "    \n",
    "    \n",
    "    return labels"
   ]
  },
  {
   "cell_type": "code",
   "execution_count": 4,
   "metadata": {},
   "outputs": [],
   "source": [
    "def train(trainData, trainLabel, model):\n",
    "    model.fit(trainData, trainLabel)\n",
    "                 \n",
    "    print(\"train finish\")"
   ]
  },
  {
   "cell_type": "code",
   "execution_count": 5,
   "metadata": {},
   "outputs": [],
   "source": [
    "def predict(testData, model):\n",
    "    prediction = model.predict(testData)\n",
    "    return prediction"
   ]
  },
  {
   "cell_type": "code",
   "execution_count": 6,
   "metadata": {},
   "outputs": [],
   "source": [
    "def evaluate(test_label, prediction):\n",
    "    accuracy = metrics.accuracy_score(test_label, prediction)\n",
    "    return accuracy"
   ]
  },
  {
   "cell_type": "markdown",
   "metadata": {},
   "source": [
    "DATA Preprocess"
   ]
  },
  {
   "cell_type": "code",
   "execution_count": 7,
   "metadata": {},
   "outputs": [],
   "source": [
    "trainData = np.array(featureProcess(r\"D:\\Unimelb\\Introduction to Machine Learning\\assignment2\\dataset\\dataset\\train_features.csv\"))\n",
    "validData = np.array(featureProcess(r\"D:\\Unimelb\\Introduction to Machine Learning\\assignment2\\dataset\\dataset\\valid_features.csv\"))\n",
    "testData = np.array(featureProcess(r\"D:\\Unimelb\\Introduction to Machine Learning\\assignment2\\dataset\\dataset\\test_features.csv\"))"
   ]
  },
  {
   "cell_type": "code",
   "execution_count": 9,
   "metadata": {},
   "outputs": [],
   "source": [
    "#create BOW\n",
    "trainTxt = []\n",
    "validTxt = []\n",
    "testTxt = []\n",
    "for i in range(len(trainData)):\n",
    "    trainTxt.append(trainData[i].replace(\",\", \"\"))\n",
    "    \n",
    "for i in range(len(validData)):\n",
    "    validTxt.append(validData[i].replace(\",\", \"\"))   \n",
    "    \n",
    "for i in range(len(testData)):\n",
    "    testTxt.append(testData[i].replace(\",\", \"\"))   \n",
    "    \n",
    "vectorizer = CountVectorizer() \n",
    "trainVectors = vectorizer.fit_transform(trainTxt)\n",
    "validVectors = vectorizer.transform(validTxt)\n",
    "testVectors = vectorizer.transform(testTxt)"
   ]
  },
  {
   "cell_type": "code",
   "execution_count": 10,
   "metadata": {},
   "outputs": [],
   "source": [
    "trainLabel = labelProcess(r\"D:\\Unimelb\\Introduction to Machine Learning\\assignment2\\dataset\\dataset\\train_labels.csv\")\n",
    "validLabel = labelProcess(r\"D:\\Unimelb\\Introduction to Machine Learning\\assignment2\\dataset\\dataset\\valid_labels.csv\")"
   ]
  },
  {
   "cell_type": "markdown",
   "metadata": {},
   "source": [
    "Training"
   ]
  },
  {
   "cell_type": "code",
   "execution_count": 11,
   "metadata": {},
   "outputs": [
    {
     "name": "stdout",
     "output_type": "stream",
     "text": [
      "train finish\n"
     ]
    }
   ],
   "source": [
    "n_estimators = 99\n",
    "forest = ensemble.RandomForestClassifier(n_estimators = n_estimators)\n",
    "train(trainVectors, trainLabel, forest)"
   ]
  },
  {
   "cell_type": "code",
   "execution_count": 22,
   "metadata": {},
   "outputs": [
    {
     "name": "stdout",
     "output_type": "stream",
     "text": [
      "['soul and reggae' 'classic pop and rock' 'metal' 'folk'\n",
      " 'classic pop and rock' 'classic pop and rock' 'soul and reggae' 'pop'\n",
      " 'punk' 'folk' 'folk' 'classic pop and rock' 'pop' 'pop' 'metal' 'folk'\n",
      " 'classic pop and rock' 'pop' 'classic pop and rock'\n",
      " 'classic pop and rock' 'pop' 'folk' 'pop' 'classic pop and rock' 'metal'\n",
      " 'pop' 'folk' 'folk' 'folk' 'pop' 'folk' 'pop' 'pop'\n",
      " 'classic pop and rock' 'punk' 'classic pop and rock'\n",
      " 'classic pop and rock' 'metal' 'pop' 'classic pop and rock'\n",
      " 'classic pop and rock' 'classic pop and rock' 'classic pop and rock'\n",
      " 'folk' 'classic pop and rock' 'punk' 'classic pop and rock' 'pop' 'punk'\n",
      " 'classic pop and rock' 'classic pop and rock' 'punk' 'folk'\n",
      " 'classic pop and rock' 'classic pop and rock' 'folk'\n",
      " 'classic pop and rock' 'pop' 'pop' 'punk' 'folk' 'soul and reggae' 'folk'\n",
      " 'folk' 'classic pop and rock' 'punk' 'metal' 'pop' 'pop'\n",
      " 'soul and reggae' 'soul and reggae' 'classic pop and rock' 'folk' 'metal'\n",
      " 'folk' 'classic pop and rock' 'soul and reggae' 'classic pop and rock'\n",
      " 'metal' 'folk' 'punk' 'folk' 'folk' 'metal' 'punk' 'metal'\n",
      " 'soul and reggae' 'punk' 'metal' 'metal' 'pop' 'classic pop and rock'\n",
      " 'classic pop and rock' 'classic pop and rock' 'soul and reggae' 'pop'\n",
      " 'classic pop and rock' 'folk' 'classic pop and rock'\n",
      " 'classic pop and rock' 'pop' 'classic pop and rock' 'pop' 'folk' 'folk'\n",
      " 'folk' 'classic pop and rock' 'pop' 'classic pop and rock' 'folk' 'metal'\n",
      " 'classic pop and rock' 'classic pop and rock' 'classic pop and rock'\n",
      " 'punk' 'classic pop and rock' 'metal' 'classic pop and rock' 'metal'\n",
      " 'classic pop and rock' 'folk' 'classic pop and rock' 'folk'\n",
      " 'soul and reggae' 'folk' 'classic pop and rock' 'punk'\n",
      " 'classic pop and rock' 'folk' 'punk' 'soul and reggae' 'metal' 'pop'\n",
      " 'pop' 'folk' 'classic pop and rock' 'metal' 'punk' 'metal'\n",
      " 'soul and reggae' 'classic pop and rock' 'pop' 'punk'\n",
      " 'classic pop and rock' 'classic pop and rock' 'folk'\n",
      " 'classic pop and rock' 'pop' 'classic pop and rock'\n",
      " 'classic pop and rock' 'classic pop and rock' 'classic pop and rock'\n",
      " 'folk' 'classic pop and rock' 'folk' 'classic pop and rock' 'folk'\n",
      " 'soul and reggae' 'folk' 'pop' 'folk' 'metal' 'metal'\n",
      " 'classic pop and rock' 'punk' 'classic pop and rock' 'folk' 'punk'\n",
      " 'classic pop and rock' 'folk' 'classic pop and rock' 'soul and reggae'\n",
      " 'punk' 'folk' 'classic pop and rock' 'pop' 'metal' 'classic pop and rock'\n",
      " 'folk' 'classic pop and rock' 'classic pop and rock'\n",
      " 'classic pop and rock' 'metal' 'classic pop and rock' 'folk'\n",
      " 'classic pop and rock' 'folk' 'classic pop and rock' 'pop' 'metal'\n",
      " 'metal' 'classic pop and rock' 'metal' 'classic pop and rock' 'folk'\n",
      " 'pop' 'punk' 'classic pop and rock' 'classic pop and rock'\n",
      " 'classic pop and rock' 'pop' 'classic pop and rock'\n",
      " 'classic pop and rock' 'soul and reggae' 'folk' 'punk' 'metal' 'folk'\n",
      " 'classic pop and rock' 'folk' 'classic pop and rock'\n",
      " 'classic pop and rock' 'classic pop and rock' 'pop' 'metal'\n",
      " 'classic pop and rock' 'pop' 'folk' 'punk' 'pop' 'folk' 'pop'\n",
      " 'classic pop and rock' 'classic pop and rock' 'soul and reggae' 'punk'\n",
      " 'pop' 'pop' 'soul and reggae' 'metal' 'classic pop and rock' 'metal'\n",
      " 'pop' 'classic pop and rock' 'classic pop and rock' 'soul and reggae'\n",
      " 'pop' 'pop' 'pop' 'jazz and blues' 'pop' 'folk' 'folk' 'soul and reggae'\n",
      " 'metal' 'folk' 'classic pop and rock' 'metal' 'classic pop and rock'\n",
      " 'classic pop and rock' 'soul and reggae' 'classic pop and rock'\n",
      " 'classic pop and rock' 'folk' 'classic pop and rock' 'folk'\n",
      " 'soul and reggae' 'classic pop and rock' 'pop' 'classic pop and rock'\n",
      " 'classic pop and rock' 'pop' 'folk' 'classic pop and rock' 'punk' 'metal'\n",
      " 'pop' 'classic pop and rock' 'classic pop and rock' 'metal' 'metal'\n",
      " 'folk' 'folk' 'folk' 'classic pop and rock' 'folk' 'folk' 'metal' 'metal'\n",
      " 'punk' 'metal' 'folk' 'punk' 'classic pop and rock' 'folk'\n",
      " 'classic pop and rock' 'folk' 'classic pop and rock' 'punk' 'pop'\n",
      " 'classic pop and rock' 'classic pop and rock' 'classic pop and rock'\n",
      " 'folk' 'folk' 'classic pop and rock' 'classic pop and rock' 'metal'\n",
      " 'soul and reggae' 'pop' 'soul and reggae' 'folk' 'metal' 'folk' 'folk'\n",
      " 'pop' 'pop' 'pop' 'metal' 'metal' 'classic pop and rock' 'folk'\n",
      " 'classic pop and rock' 'classic pop and rock' 'punk'\n",
      " 'classic pop and rock' 'metal' 'classic pop and rock' 'folk' 'pop' 'pop'\n",
      " 'folk' 'pop' 'classic pop and rock' 'punk' 'pop' 'pop'\n",
      " 'classic pop and rock' 'pop' 'classic pop and rock' 'soul and reggae'\n",
      " 'folk' 'pop' 'pop' 'folk' 'soul and reggae' 'punk' 'classic pop and rock'\n",
      " 'classic pop and rock' 'dance and electronica' 'folk'\n",
      " 'classic pop and rock' 'soul and reggae' 'classic pop and rock' 'metal'\n",
      " 'metal' 'pop' 'classic pop and rock' 'pop' 'classic pop and rock' 'pop'\n",
      " 'soul and reggae' 'classic pop and rock' 'soul and reggae' 'pop'\n",
      " 'classic pop and rock' 'metal' 'metal' 'pop' 'soul and reggae'\n",
      " 'classic pop and rock' 'folk' 'folk' 'pop' 'folk' 'metal' 'folk'\n",
      " 'classic pop and rock' 'folk' 'classic pop and rock' 'pop' 'folk'\n",
      " 'classic pop and rock' 'classic pop and rock' 'soul and reggae' 'metal'\n",
      " 'metal' 'metal' 'pop' 'classic pop and rock' 'punk' 'folk'\n",
      " 'classic pop and rock' 'classic pop and rock' 'folk'\n",
      " 'classic pop and rock' 'classic pop and rock' 'pop' 'punk'\n",
      " 'classic pop and rock' 'pop' 'classic pop and rock'\n",
      " 'classic pop and rock' 'folk' 'soul and reggae' 'pop' 'punk' 'pop' 'folk'\n",
      " 'classic pop and rock' 'pop' 'pop' 'classic pop and rock' 'pop'\n",
      " 'classic pop and rock' 'folk' 'pop' 'folk' 'metal' 'classic pop and rock'\n",
      " 'folk' 'metal' 'folk' 'metal' 'classic pop and rock' 'pop' 'pop'\n",
      " 'classic pop and rock' 'pop' 'pop' 'folk' 'folk' 'folk'\n",
      " 'classic pop and rock' 'classic pop and rock' 'classic pop and rock'\n",
      " 'pop' 'classic pop and rock' 'classic pop and rock'\n",
      " 'classic pop and rock' 'classic pop and rock' 'folk' 'folk'\n",
      " 'classic pop and rock' 'classic pop and rock' 'folk'\n",
      " 'classic pop and rock' 'soul and reggae' 'punk' 'folk'\n",
      " 'classic pop and rock' 'classic pop and rock' 'punk' 'punk' 'folk'\n",
      " 'classic pop and rock' 'punk' 'classic pop and rock' 'folk' 'metal']\n"
     ]
    }
   ],
   "source": [
    "prediction = predict(validVectors, forest)"
   ]
  },
  {
   "cell_type": "code",
   "execution_count": 13,
   "metadata": {},
   "outputs": [
    {
     "name": "stdout",
     "output_type": "stream",
     "text": [
      "0.5355555555555556\n"
     ]
    }
   ],
   "source": [
    "accuracy = evaluate(validLabel, prediction)\n",
    "print(accuracy)"
   ]
  },
  {
   "cell_type": "markdown",
   "metadata": {},
   "source": [
    "Predict"
   ]
  },
  {
   "cell_type": "code",
   "execution_count": null,
   "metadata": {},
   "outputs": [],
   "source": [
    "trackID = pd.read_csv(r\"D:\\Unimelb\\Introduction to Machine Learning\\assignment2\\dataset\\dataset\\test_features.csv\").loc[:, \"trackID\"].values.tolist()\n",
    "prediction = predict(testVectors, forest)\n",
    "result = list(zip(trackID,prediction))"
   ]
  },
  {
   "cell_type": "code",
   "execution_count": null,
   "metadata": {},
   "outputs": [],
   "source": [
    "with open(\"BOW-RF_outPut.csv\", 'w', newline='') as csvFile:\n",
    "    writer = csv.writer(csvFile)\n",
    "    writer.writerow([\"trackID\", \"genre\"])\n",
    "    writer.writerows(result)"
   ]
  },
  {
   "cell_type": "markdown",
   "metadata": {},
   "source": [
    "n_estimators optimization"
   ]
  },
  {
   "cell_type": "code",
   "execution_count": null,
   "metadata": {},
   "outputs": [],
   "source": [
    "#training\n",
    "accuracies=[]\n",
    "\n",
    "for k in range(1,101):\n",
    "    forest = ensemble.RandomForestClassifier(n_estimators = k)\n",
    "    forest.fit(trainVectors, trainLabel)\n",
    "    prediction = forest.predict(validVectors)\n",
    "    accuracy = metrics.accuracy_score(validLabel, prediction)\n",
    "    accuracies.append(accuracy)"
   ]
  },
  {
   "cell_type": "code",
   "execution_count": null,
   "metadata": {},
   "outputs": [],
   "source": [
    "import matplotlib.pyplot as plt\n",
    "plt.plot(range(1,101), accuracies)\n",
    "print(\"The optimal value for n_estimators is {}\".format(accuracies.index(max(accuracies)) + 1))"
   ]
  },
  {
   "cell_type": "code",
   "execution_count": null,
   "metadata": {},
   "outputs": [],
   "source": [
    "max(accuracies)"
   ]
  },
  {
   "cell_type": "code",
   "execution_count": null,
   "metadata": {},
   "outputs": [],
   "source": []
  }
 ],
 "metadata": {
  "kernelspec": {
   "display_name": "Python 3",
   "language": "python",
   "name": "python3"
  },
  "language_info": {
   "codemirror_mode": {
    "name": "ipython",
    "version": 3
   },
   "file_extension": ".py",
   "mimetype": "text/x-python",
   "name": "python",
   "nbconvert_exporter": "python",
   "pygments_lexer": "ipython3",
   "version": "3.6.10"
  }
 },
 "nbformat": 4,
 "nbformat_minor": 4
}

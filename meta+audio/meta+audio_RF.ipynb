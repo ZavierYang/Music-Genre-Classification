{
 "cells": [
  {
   "cell_type": "code",
   "execution_count": 1,
   "metadata": {},
   "outputs": [],
   "source": [
    "import pandas as pd\n",
    "import numpy as np\n",
    "import csv\n",
    "from sklearn import preprocessing\n",
    "from sklearn import metrics, ensemble"
   ]
  },
  {
   "cell_type": "code",
   "execution_count": 2,
   "metadata": {},
   "outputs": [],
   "source": [
    "# This function should transform data into a usable format \n",
    "def featureProcess(path):\n",
    "    data = pd.read_csv(path)\n",
    "    #get audio data from vect1 to vect148\n",
    "    features = data.loc[:, \"loudness\":\"vect_148\"]\n",
    "    \n",
    "    #normalization\n",
    "    features=(features-features.mean())/features.std()\n",
    "    \n",
    "    return features.values.tolist()"
   ]
  },
  {
   "cell_type": "code",
   "execution_count": 3,
   "metadata": {},
   "outputs": [],
   "source": [
    "# This function should transform data into a usable format \n",
    "def labelProcess(path):\n",
    "    data = pd.read_csv(path)\n",
    "    #get classes\n",
    "    labels = data.loc[:,\"genre\"].values.tolist()\n",
    "    \n",
    "    return labels"
   ]
  },
  {
   "cell_type": "code",
   "execution_count": 4,
   "metadata": {},
   "outputs": [],
   "source": [
    "def train(trainData, trainLabel, model):\n",
    "    model.fit(trainData, trainLabel)\n",
    "                 \n",
    "    print(\"train finish\")"
   ]
  },
  {
   "cell_type": "code",
   "execution_count": 5,
   "metadata": {},
   "outputs": [],
   "source": [
    "def predict(testData, model):\n",
    "    prediction = model.predict(testData)\n",
    "    return prediction"
   ]
  },
  {
   "cell_type": "code",
   "execution_count": 6,
   "metadata": {},
   "outputs": [],
   "source": [
    "def evaluate(test_label, prediction):\n",
    "    accuracy = metrics.accuracy_score(test_label, prediction)\n",
    "    return accuracy"
   ]
  },
  {
   "cell_type": "markdown",
   "metadata": {},
   "source": [
    "DATA Preprocess"
   ]
  },
  {
   "cell_type": "code",
   "execution_count": 7,
   "metadata": {},
   "outputs": [],
   "source": [
    "trainData = np.array(featureProcess(r\"D:\\Unimelb\\Introduction to Machine Learning\\assignment2\\dataset\\dataset\\train_features.csv\"))\n",
    "validData = np.array(featureProcess(r\"D:\\Unimelb\\Introduction to Machine Learning\\assignment2\\dataset\\dataset\\valid_features.csv\"))\n",
    "testData = np.array(featureProcess(r\"D:\\Unimelb\\Introduction to Machine Learning\\assignment2\\dataset\\dataset\\test_features.csv\"))"
   ]
  },
  {
   "cell_type": "code",
   "execution_count": 8,
   "metadata": {},
   "outputs": [],
   "source": [
    "trainLabel = labelProcess(r\"D:\\Unimelb\\Introduction to Machine Learning\\assignment2\\dataset\\dataset\\train_labels.csv\")\n",
    "validLabel = labelProcess(r\"D:\\Unimelb\\Introduction to Machine Learning\\assignment2\\dataset\\dataset\\valid_labels.csv\")"
   ]
  },
  {
   "cell_type": "markdown",
   "metadata": {},
   "source": [
    "Training"
   ]
  },
  {
   "cell_type": "code",
   "execution_count": 9,
   "metadata": {},
   "outputs": [
    {
     "name": "stdout",
     "output_type": "stream",
     "text": [
      "train finish\n"
     ]
    }
   ],
   "source": [
    "n_estimators = 67\n",
    "forest = ensemble.RandomForestClassifier(n_estimators = n_estimators)\n",
    "train(trainData, trainLabel, forest)"
   ]
  },
  {
   "cell_type": "code",
   "execution_count": 10,
   "metadata": {},
   "outputs": [],
   "source": [
    "prediction = predict(validData, forest)"
   ]
  },
  {
   "cell_type": "code",
   "execution_count": 11,
   "metadata": {},
   "outputs": [
    {
     "name": "stdout",
     "output_type": "stream",
     "text": [
      "0.4711111111111111\n"
     ]
    }
   ],
   "source": [
    "accuracy = evaluate(validLabel, prediction)\n",
    "print(accuracy)"
   ]
  },
  {
   "cell_type": "markdown",
   "metadata": {},
   "source": [
    "Predict"
   ]
  },
  {
   "cell_type": "code",
   "execution_count": null,
   "metadata": {},
   "outputs": [],
   "source": [
    "trackID = pd.read_csv(r\"D:\\Unimelb\\Introduction to Machine Learning\\assignment2\\dataset\\dataset\\test_features.csv\").loc[:, \"trackID\"].values.tolist()\n",
    "prediction = predict(testData, forest)\n",
    "result = list(zip(trackID,prediction))"
   ]
  },
  {
   "cell_type": "code",
   "execution_count": null,
   "metadata": {},
   "outputs": [],
   "source": [
    "with open(\"all_RF_outPut.csv\", 'w', newline='') as csvFile:\n",
    "    writer = csv.writer(csvFile)\n",
    "    writer.writerow([\"trackID\", \"genre\"])\n",
    "    writer.writerows(result)"
   ]
  },
  {
   "cell_type": "markdown",
   "metadata": {},
   "source": [
    "n_estimators optimization"
   ]
  },
  {
   "cell_type": "code",
   "execution_count": null,
   "metadata": {},
   "outputs": [],
   "source": [
    "#training\n",
    "accuracies=[]\n",
    "\n",
    "for k in range(1,101):\n",
    "    forest = ensemble.RandomForestClassifier(n_estimators = k)\n",
    "    forest.fit(trainData, trainLabel)\n",
    "    prediction = forest.predict(validData)\n",
    "    accuracy = metrics.accuracy_score(validLabel, prediction)\n",
    "    accuracies.append(accuracy)"
   ]
  },
  {
   "cell_type": "code",
   "execution_count": null,
   "metadata": {},
   "outputs": [],
   "source": [
    "import matplotlib.pyplot as plt\n",
    "plt.plot(range(1,101), accuracies)\n",
    "print(\"The optimal value for n_estimators is {}\".format(accuracies.index(max(accuracies)) + 1))"
   ]
  },
  {
   "cell_type": "code",
   "execution_count": null,
   "metadata": {},
   "outputs": [],
   "source": [
    "max(accuracies)"
   ]
  },
  {
   "cell_type": "code",
   "execution_count": null,
   "metadata": {},
   "outputs": [],
   "source": []
  }
 ],
 "metadata": {
  "kernelspec": {
   "display_name": "Python 3",
   "language": "python",
   "name": "python3"
  },
  "language_info": {
   "codemirror_mode": {
    "name": "ipython",
    "version": 3
   },
   "file_extension": ".py",
   "mimetype": "text/x-python",
   "name": "python",
   "nbconvert_exporter": "python",
   "pygments_lexer": "ipython3",
   "version": "3.6.10"
  }
 },
 "nbformat": 4,
 "nbformat_minor": 4
}

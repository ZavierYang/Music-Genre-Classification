{
 "cells": [
  {
   "cell_type": "code",
   "execution_count": 1,
   "metadata": {},
   "outputs": [],
   "source": [
    "import pandas as pd\n",
    "import csv\n",
    "import numpy as np\n",
    "from sklearn.neighbors import KNeighborsClassifier\n",
    "from sklearn import preprocessing\n",
    "from sklearn import metrics"
   ]
  },
  {
   "cell_type": "code",
   "execution_count": 2,
   "metadata": {},
   "outputs": [],
   "source": [
    "# This function should transform data into a usable format \n",
    "def featureProcess(path):\n",
    "    data = pd.read_csv(path)\n",
    "    #get audio data from loudness to vect148\n",
    "    features = data.loc[:, \"loudness\":\"vect_148\"]\n",
    "    \n",
    "    return features.values.tolist()"
   ]
  },
  {
   "cell_type": "code",
   "execution_count": 3,
   "metadata": {},
   "outputs": [],
   "source": [
    "# This function should transform data into a usable format \n",
    "def labelProcess(path):\n",
    "    data = pd.read_csv(path)\n",
    "    #get classes\n",
    "    labels = data.loc[:,\"genre\"].values.tolist()\n",
    "    \n",
    "    return labels"
   ]
  },
  {
   "cell_type": "code",
   "execution_count": 4,
   "metadata": {},
   "outputs": [],
   "source": [
    "def train(trainData, trainLabel, model):\n",
    "    model.fit(trainData, trainLabel)\n",
    "                 \n",
    "    print(\"train finish\")"
   ]
  },
  {
   "cell_type": "code",
   "execution_count": 5,
   "metadata": {},
   "outputs": [],
   "source": [
    "def predict(testData, model):\n",
    "    prediction = model.predict(testData)\n",
    "    return prediction"
   ]
  },
  {
   "cell_type": "code",
   "execution_count": 6,
   "metadata": {},
   "outputs": [],
   "source": [
    "def evaluate(test_label, prediction):\n",
    "    accuracy = metrics.accuracy_score(test_label, prediction)\n",
    "    return accuracy"
   ]
  },
  {
   "cell_type": "markdown",
   "metadata": {},
   "source": [
    "DATA Preprocess"
   ]
  },
  {
   "cell_type": "code",
   "execution_count": 7,
   "metadata": {},
   "outputs": [],
   "source": [
    "trainData = np.array(featureProcess(r\"D:\\Unimelb\\Introduction to Machine Learning\\assignment2\\dataset\\dataset\\train_features.csv\"))\n",
    "validData = np.array(featureProcess(r\"D:\\Unimelb\\Introduction to Machine Learning\\assignment2\\dataset\\dataset\\valid_features.csv\"))\n",
    "testData = np.array(featureProcess(r\"D:\\Unimelb\\Introduction to Machine Learning\\assignment2\\dataset\\dataset\\test_features.csv\"))"
   ]
  },
  {
   "cell_type": "code",
   "execution_count": 8,
   "metadata": {},
   "outputs": [],
   "source": [
    "trainLabel = labelProcess(r\"D:\\Unimelb\\Introduction to Machine Learning\\assignment2\\dataset\\dataset\\train_labels.csv\")\n",
    "validLabel = labelProcess(r\"D:\\Unimelb\\Introduction to Machine Learning\\assignment2\\dataset\\dataset\\valid_labels.csv\")"
   ]
  },
  {
   "cell_type": "markdown",
   "metadata": {},
   "source": [
    "Training"
   ]
  },
  {
   "cell_type": "code",
   "execution_count": 9,
   "metadata": {},
   "outputs": [
    {
     "name": "stdout",
     "output_type": "stream",
     "text": [
      "train finish\n"
     ]
    }
   ],
   "source": [
    "k = 49\n",
    "classifier = KNeighborsClassifier(n_neighbors=k)\n",
    "train(trainData, trainLabel, classifier)"
   ]
  },
  {
   "cell_type": "code",
   "execution_count": 10,
   "metadata": {},
   "outputs": [
    {
     "name": "stdout",
     "output_type": "stream",
     "text": [
      "['soul and reggae' 'classic pop and rock' 'classic pop and rock' 'folk'\n",
      " 'folk' 'classic pop and rock' 'folk' 'folk' 'classic pop and rock'\n",
      " 'soul and reggae' 'classic pop and rock' 'metal' 'classic pop and rock'\n",
      " 'folk' 'classic pop and rock' 'soul and reggae' 'classic pop and rock'\n",
      " 'classic pop and rock' 'soul and reggae' 'folk' 'folk'\n",
      " 'classic pop and rock' 'folk' 'soul and reggae' 'metal'\n",
      " 'classic pop and rock' 'punk' 'classic pop and rock' 'pop' 'folk'\n",
      " 'classic pop and rock' 'soul and reggae' 'folk' 'soul and reggae' 'folk'\n",
      " 'classic pop and rock' 'jazz and blues' 'folk' 'classic pop and rock'\n",
      " 'soul and reggae' 'soul and reggae' 'folk' 'folk' 'classic pop and rock'\n",
      " 'dance and electronica' 'classic pop and rock' 'folk' 'metal' 'metal'\n",
      " 'folk' 'classic pop and rock' 'metal' 'folk' 'jazz and blues'\n",
      " 'soul and reggae' 'folk' 'classic pop and rock' 'classic pop and rock'\n",
      " 'soul and reggae' 'punk' 'metal' 'folk' 'folk' 'soul and reggae' 'folk'\n",
      " 'classic pop and rock' 'metal' 'classic pop and rock' 'soul and reggae'\n",
      " 'folk' 'classic pop and rock' 'classic pop and rock' 'folk' 'folk'\n",
      " 'classic pop and rock' 'folk' 'folk' 'classic pop and rock' 'metal'\n",
      " 'metal' 'classic pop and rock' 'folk' 'classic pop and rock' 'metal'\n",
      " 'metal' 'metal' 'folk' 'classic pop and rock' 'folk' 'metal' 'punk'\n",
      " 'soul and reggae' 'metal' 'folk' 'soul and reggae' 'classic pop and rock'\n",
      " 'folk' 'punk' 'folk' 'classic pop and rock' 'folk' 'metal'\n",
      " 'soul and reggae' 'dance and electronica' 'metal' 'folk' 'folk'\n",
      " 'classic pop and rock' 'folk' 'folk' 'folk' 'folk' 'metal'\n",
      " 'soul and reggae' 'punk' 'soul and reggae' 'metal' 'folk' 'metal'\n",
      " 'classic pop and rock' 'folk' 'folk' 'folk' 'classic pop and rock'\n",
      " 'classic pop and rock' 'metal' 'folk' 'folk' 'folk' 'metal' 'folk'\n",
      " 'metal' 'folk' 'classic pop and rock' 'punk' 'folk'\n",
      " 'classic pop and rock' 'classic pop and rock' 'metal'\n",
      " 'classic pop and rock' 'folk' 'classic pop and rock' 'metal'\n",
      " 'classic pop and rock' 'classic pop and rock' 'folk' 'soul and reggae'\n",
      " 'folk' 'folk' 'folk' 'classic pop and rock' 'classic pop and rock' 'folk'\n",
      " 'classic pop and rock' 'folk' 'soul and reggae' 'folk' 'folk' 'folk'\n",
      " 'classic pop and rock' 'folk' 'metal' 'metal' 'metal' 'folk'\n",
      " 'soul and reggae' 'folk' 'metal' 'folk' 'folk' 'soul and reggae'\n",
      " 'classic pop and rock' 'classic pop and rock' 'metal' 'soul and reggae'\n",
      " 'folk' 'metal' 'folk' 'classic pop and rock' 'folk' 'folk' 'folk' 'metal'\n",
      " 'soul and reggae' 'classic pop and rock' 'soul and reggae' 'folk'\n",
      " 'soul and reggae' 'pop' 'folk' 'metal' 'folk' 'folk' 'folk' 'folk' 'folk'\n",
      " 'metal' 'metal' 'soul and reggae' 'classic pop and rock' 'folk'\n",
      " 'soul and reggae' 'folk' 'punk' 'classic pop and rock' 'folk' 'punk'\n",
      " 'classic pop and rock' 'classic pop and rock' 'folk'\n",
      " 'classic pop and rock' 'classic pop and rock' 'soul and reggae' 'folk'\n",
      " 'folk' 'soul and reggae' 'soul and reggae' 'folk' 'punk' 'folk' 'folk'\n",
      " 'folk' 'classic pop and rock' 'folk' 'soul and reggae' 'punk'\n",
      " 'classic pop and rock' 'classic pop and rock' 'folk' 'metal'\n",
      " 'classic pop and rock' 'metal' 'folk' 'folk' 'folk' 'folk' 'folk'\n",
      " 'classic pop and rock' 'folk' 'folk' 'classic pop and rock' 'folk'\n",
      " 'soul and reggae' 'folk' 'folk' 'soul and reggae' 'soul and reggae'\n",
      " 'metal' 'folk' 'classic pop and rock' 'soul and reggae' 'soul and reggae'\n",
      " 'classic pop and rock' 'folk' 'folk' 'classic pop and rock'\n",
      " 'soul and reggae' 'classic pop and rock' 'classic pop and rock'\n",
      " 'classic pop and rock' 'classic pop and rock' 'folk' 'folk'\n",
      " 'soul and reggae' 'metal' 'metal' 'classic pop and rock' 'folk'\n",
      " 'classic pop and rock' 'soul and reggae' 'classic pop and rock'\n",
      " 'soul and reggae' 'metal' 'folk' 'classic pop and rock' 'folk'\n",
      " 'soul and reggae' 'punk' 'punk' 'metal' 'classic pop and rock' 'folk'\n",
      " 'metal' 'classic pop and rock' 'soul and reggae' 'metal'\n",
      " 'classic pop and rock' 'folk' 'folk' 'classic pop and rock' 'folk'\n",
      " 'classic pop and rock' 'soul and reggae' 'folk' 'classic pop and rock'\n",
      " 'folk' 'soul and reggae' 'metal' 'punk' 'soul and reggae'\n",
      " 'soul and reggae' 'soul and reggae' 'metal' 'classic pop and rock' 'folk'\n",
      " 'folk' 'classic pop and rock' 'folk' 'classic pop and rock' 'folk' 'folk'\n",
      " 'classic pop and rock' 'folk' 'classic pop and rock' 'folk'\n",
      " 'classic pop and rock' 'metal' 'metal' 'folk' 'folk' 'folk' 'folk' 'folk'\n",
      " 'soul and reggae' 'metal' 'classic pop and rock' 'folk' 'soul and reggae'\n",
      " 'classic pop and rock' 'punk' 'soul and reggae' 'folk'\n",
      " 'classic pop and rock' 'classic pop and rock' 'classic pop and rock'\n",
      " 'soul and reggae' 'metal' 'folk' 'soul and reggae' 'metal'\n",
      " 'soul and reggae' 'folk' 'soul and reggae' 'classic pop and rock'\n",
      " 'classic pop and rock' 'metal' 'classic pop and rock' 'folk'\n",
      " 'classic pop and rock' 'folk' 'classic pop and rock' 'soul and reggae'\n",
      " 'classic pop and rock' 'classic pop and rock' 'classic pop and rock'\n",
      " 'classic pop and rock' 'dance and electronica' 'metal' 'folk' 'folk'\n",
      " 'classic pop and rock' 'folk' 'classic pop and rock'\n",
      " 'classic pop and rock' 'classic pop and rock' 'folk' 'folk' 'folk' 'folk'\n",
      " 'soul and reggae' 'classic pop and rock' 'folk' 'classic pop and rock'\n",
      " 'folk' 'folk' 'classic pop and rock' 'metal' 'metal'\n",
      " 'classic pop and rock' 'classic pop and rock' 'metal' 'punk'\n",
      " 'classic pop and rock' 'folk' 'folk' 'folk' 'soul and reggae' 'folk'\n",
      " 'classic pop and rock' 'folk' 'folk' 'folk' 'classic pop and rock' 'folk'\n",
      " 'dance and electronica' 'classic pop and rock' 'classic pop and rock'\n",
      " 'classic pop and rock' 'folk' 'metal' 'folk' 'classic pop and rock'\n",
      " 'folk' 'classic pop and rock' 'classic pop and rock'\n",
      " 'classic pop and rock' 'classic pop and rock' 'classic pop and rock'\n",
      " 'metal' 'classic pop and rock' 'pop' 'metal' 'classic pop and rock'\n",
      " 'metal' 'classic pop and rock' 'folk' 'folk' 'classic pop and rock'\n",
      " 'folk' 'classic pop and rock' 'classic pop and rock' 'punk' 'folk' 'folk'\n",
      " 'punk' 'classic pop and rock' 'folk' 'soul and reggae' 'folk' 'folk'\n",
      " 'classic pop and rock' 'metal' 'soul and reggae' 'folk'\n",
      " 'classic pop and rock' 'punk' 'soul and reggae' 'soul and reggae' 'metal'\n",
      " 'folk' 'folk' 'soul and reggae' 'punk' 'classic pop and rock' 'folk'\n",
      " 'classic pop and rock' 'metal' 'folk' 'classic pop and rock' 'punk']\n"
     ]
    }
   ],
   "source": [
    "prediction = predict(validData, classifier)"
   ]
  },
  {
   "cell_type": "code",
   "execution_count": 11,
   "metadata": {},
   "outputs": [
    {
     "name": "stdout",
     "output_type": "stream",
     "text": [
      "0.34444444444444444\n"
     ]
    }
   ],
   "source": [
    "accuracy = evaluate(validLabel, prediction)\n",
    "print(accuracy)"
   ]
  },
  {
   "cell_type": "markdown",
   "metadata": {},
   "source": [
    "Predict"
   ]
  },
  {
   "cell_type": "code",
   "execution_count": null,
   "metadata": {},
   "outputs": [],
   "source": [
    "trackID = pd.read_csv(r\"D:\\Unimelb\\Introduction to Machine Learning\\assignment2\\dataset\\dataset\\test_features.csv\").loc[:, \"trackID\"].values.tolist()\n",
    "prediction = predict(testData, classifier)\n",
    "result = list(zip(trackID,prediction))"
   ]
  },
  {
   "cell_type": "code",
   "execution_count": null,
   "metadata": {},
   "outputs": [],
   "source": [
    "with open(\"all_KNN_outPut.csv\", 'w', newline='') as csvFile:\n",
    "    writer = csv.writer(csvFile)\n",
    "    writer.writerow([\"trackID\", \"genre\"])\n",
    "    writer.writerows(result)"
   ]
  },
  {
   "cell_type": "markdown",
   "metadata": {},
   "source": [
    "K's optimization"
   ]
  },
  {
   "cell_type": "code",
   "execution_count": 14,
   "metadata": {},
   "outputs": [],
   "source": [
    "#training\n",
    "accuracies=[]\n",
    "\n",
    "for k in range(1,101):\n",
    "    classifier = KNeighborsClassifier(n_neighbors=k)\n",
    "    classifier.fit(trainData, trainLabel)\n",
    "    prediction = classifier.predict(validData)\n",
    "    accuracy = metrics.accuracy_score(validLabel, prediction)\n",
    "    accuracies.append(accuracy)"
   ]
  },
  {
   "cell_type": "code",
   "execution_count": 15,
   "metadata": {},
   "outputs": [
    {
     "name": "stdout",
     "output_type": "stream",
     "text": [
      "The optimal value for K is 49\n"
     ]
    },
    {
     "data": {
      "image/png": "[encoded data removed]",
      "text/plain": [
       "<Figure size 432x288 with 1 Axes>"
      ]
     },
     "metadata": {
      "needs_background": "light"
     },
     "output_type": "display_data"
    }
   ],
   "source": [
    "import matplotlib.pyplot as plt\n",
    "plt.plot(range(1,101), accuracies)\n",
    "print(\"The optimal value for K is {}\".format(accuracies.index(max(accuracies)) + 1))"
   ]
  },
  {
   "cell_type": "code",
   "execution_count": 16,
   "metadata": {},
   "outputs": [
    {
     "data": {
      "text/plain": [
       "0.34444444444444444"
      ]
     },
     "execution_count": 16,
     "metadata": {},
     "output_type": "execute_result"
    }
   ],
   "source": [
    "max(accuracies)"
   ]
  },
  {
   "cell_type": "code",
   "execution_count": null,
   "metadata": {},
   "outputs": [],
   "source": []
  }
 ],
 "metadata": {
  "kernelspec": {
   "display_name": "Python 3",
   "language": "python",
   "name": "python3"
  },
  "language_info": {
   "codemirror_mode": {
    "name": "ipython",
    "version": 3
   },
   "file_extension": ".py",
   "mimetype": "text/x-python",
   "name": "python",
   "nbconvert_exporter": "python",
   "pygments_lexer": "ipython3",
   "version": "3.6.10"
  }
 },
 "nbformat": 4,
 "nbformat_minor": 4
}

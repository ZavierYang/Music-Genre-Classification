{
 "cells": [
  {
   "cell_type": "code",
   "execution_count": 1,
   "metadata": {},
   "outputs": [
    {
     "name": "stderr",
     "output_type": "stream",
     "text": [
      "Using TensorFlow backend.\n",
      "C:\\Users\\zippy\\anaconda3\\envs\\tensorflow\\lib\\site-packages\\tensorflow\\python\\framework\\dtypes.py:526: FutureWarning: Passing (type, 1) or '1type' as a synonym of type is deprecated; in a future version of numpy, it will be understood as (type, (1,)) / '(1,)type'.\n",
      "  _np_qint8 = np.dtype([(\"qint8\", np.int8, 1)])\n",
      "C:\\Users\\zippy\\anaconda3\\envs\\tensorflow\\lib\\site-packages\\tensorflow\\python\\framework\\dtypes.py:527: FutureWarning: Passing (type, 1) or '1type' as a synonym of type is deprecated; in a future version of numpy, it will be understood as (type, (1,)) / '(1,)type'.\n",
      "  _np_quint8 = np.dtype([(\"quint8\", np.uint8, 1)])\n",
      "C:\\Users\\zippy\\anaconda3\\envs\\tensorflow\\lib\\site-packages\\tensorflow\\python\\framework\\dtypes.py:528: FutureWarning: Passing (type, 1) or '1type' as a synonym of type is deprecated; in a future version of numpy, it will be understood as (type, (1,)) / '(1,)type'.\n",
      "  _np_qint16 = np.dtype([(\"qint16\", np.int16, 1)])\n",
      "C:\\Users\\zippy\\anaconda3\\envs\\tensorflow\\lib\\site-packages\\tensorflow\\python\\framework\\dtypes.py:529: FutureWarning: Passing (type, 1) or '1type' as a synonym of type is deprecated; in a future version of numpy, it will be understood as (type, (1,)) / '(1,)type'.\n",
      "  _np_quint16 = np.dtype([(\"quint16\", np.uint16, 1)])\n",
      "C:\\Users\\zippy\\anaconda3\\envs\\tensorflow\\lib\\site-packages\\tensorflow\\python\\framework\\dtypes.py:530: FutureWarning: Passing (type, 1) or '1type' as a synonym of type is deprecated; in a future version of numpy, it will be understood as (type, (1,)) / '(1,)type'.\n",
      "  _np_qint32 = np.dtype([(\"qint32\", np.int32, 1)])\n",
      "C:\\Users\\zippy\\anaconda3\\envs\\tensorflow\\lib\\site-packages\\tensorflow\\python\\framework\\dtypes.py:535: FutureWarning: Passing (type, 1) or '1type' as a synonym of type is deprecated; in a future version of numpy, it will be understood as (type, (1,)) / '(1,)type'.\n",
      "  np_resource = np.dtype([(\"resource\", np.ubyte, 1)])\n"
     ]
    }
   ],
   "source": [
    "import pandas as pd\n",
    "import numpy as np\n",
    "import csv\n",
    "import keras\n",
    "from keras.models import Sequential\n",
    "from keras.layers import Dense\n",
    "from keras.layers import Dropout\n",
    "from keras.layers import Conv1D, MaxPooling1D, Flatten"
   ]
  },
  {
   "cell_type": "code",
   "execution_count": 2,
   "metadata": {},
   "outputs": [],
   "source": [
    "# This function should transform data into a usable format \n",
    "def featureProcess(path):\n",
    "    data = pd.read_csv(path)\n",
    "    #get audio data from vect1 to vect148\n",
    "    #featureData = data.loc[:, \"vect_1\":\"vect_148\"]\n",
    "    \n",
    "    #get feature data from loudness to vect148\n",
    "    featureData = data.loc[:, \"loudness\":\"vect_148\"]\n",
    "    \n",
    "    # normalization\n",
    "    featureData=(featureData-featureData.mean())/featureData.std()\n",
    "    \n",
    "    return featureData.values.tolist()"
   ]
  },
  {
   "cell_type": "code",
   "execution_count": 3,
   "metadata": {},
   "outputs": [],
   "source": [
    "# This function should transform data into a usable format \n",
    "def labelProcess(path):\n",
    "    data = pd.read_csv(path)\n",
    "    #get classes\n",
    "    labels = data.loc[:,\"genre\"].values.tolist()\n",
    "    \n",
    "    return labels"
   ]
  },
  {
   "cell_type": "code",
   "execution_count": 4,
   "metadata": {},
   "outputs": [],
   "source": [
    "def toOneHot(classes, labels):\n",
    "    one_hot_labels = []\n",
    "\n",
    "    for label in labels:\n",
    "        one_hot_vector = [0] * len(classes)\n",
    "        one_hot_vector[classes.index(label)] = 1\n",
    "\n",
    "        one_hot_labels.append(one_hot_vector)\n",
    "    return one_hot_labels"
   ]
  },
  {
   "cell_type": "code",
   "execution_count": 5,
   "metadata": {},
   "outputs": [],
   "source": [
    "def CNN(trainData, trainLabel):\n",
    "    \n",
    "    num_classes = len(trainLabel[0])  # total classes to train\n",
    "    model = Sequential()\n",
    "    \n",
    "    #all feature\n",
    "    #model.add(Conv1D(128, 10,padding=\"same\", input_shape=(148, 1), activation=\"relu\", kernel_initializer=\"random_uniform\"))\n",
    "    \n",
    "    #audio feature\n",
    "    model.add(Conv1D(128, 10,padding=\"same\", input_shape=(154, 1), activation=\"relu\", kernel_initializer=\"random_uniform\"))\n",
    "    \n",
    "    model.add(Dropout(0.25))\n",
    "    model.add(MaxPooling1D(pool_size=(2)))\n",
    "    model.add(Conv1D(64, 10,padding=\"same\", activation=\"relu\", kernel_initializer=\"random_uniform\"))\n",
    "    model.add(Flatten())\n",
    "    model.add(Dropout(0.25))\n",
    "    model.add(Dense(50, activation=\"relu\", kernel_initializer=\"random_uniform\"))\n",
    "    model.add(Dropout(0.25))\n",
    "    model.add(Dense(num_classes, activation=\"softmax\", kernel_initializer=\"random_uniform\"))\n",
    "    \n",
    "    \n",
    "    #Define loss, optimizer, and metrics\n",
    "    model.compile(loss='categorical_crossentropy', optimizer=\"adam\", metrics=['accuracy'])\n",
    "    return model"
   ]
  },
  {
   "cell_type": "code",
   "execution_count": 6,
   "metadata": {},
   "outputs": [],
   "source": [
    "def train(trainData, trainLabel, model):\n",
    "    \n",
    "    batch_size = 32  #the number of data to feed into model per batch\n",
    "    num_epoch = 100  # go through your training data epoch times\n",
    "    \n",
    "    #callbacks stop training if val_loss is not improving.\n",
    "    callbacks = [keras.callbacks.EarlyStopping(monitor='val_loss', patience=3, verbose = 1)]\n",
    "    \n",
    "    history = model.fit(trainData, trainLabel, validation_split=0.2, epochs = num_epoch, batch_size=batch_size, verbose=1, callbacks = callbacks)\n",
    "                 \n",
    "    return history, model"
   ]
  },
  {
   "cell_type": "code",
   "execution_count": 7,
   "metadata": {},
   "outputs": [],
   "source": [
    "def evaluate(validData, validLabel, model):\n",
    "    loss, accuracy = model.evaluate(validData, validLabel)\n",
    "    return loss, accuracy"
   ]
  },
  {
   "cell_type": "code",
   "execution_count": 8,
   "metadata": {},
   "outputs": [],
   "source": [
    "def predict(testData, model):\n",
    "    result = model.predict_classes(testData, verbose=1)\n",
    "    return result"
   ]
  },
  {
   "cell_type": "markdown",
   "metadata": {},
   "source": [
    "DATA Preprocess"
   ]
  },
  {
   "cell_type": "code",
   "execution_count": 9,
   "metadata": {},
   "outputs": [],
   "source": [
    "trainData = np.expand_dims(np.array(featureProcess(r\"D:\\Unimelb\\Introduction to Machine Learning\\assignment2\\dataset\\dataset\\train_features.csv\")), axis=2)\n",
    "validData = np.expand_dims(np.array(featureProcess(r\"D:\\Unimelb\\Introduction to Machine Learning\\assignment2\\dataset\\dataset\\valid_features.csv\")), axis=2)\n",
    "testData = np.expand_dims(np.array(featureProcess(r\"D:\\Unimelb\\Introduction to Machine Learning\\assignment2\\dataset\\dataset\\test_features.csv\")), axis=2)"
   ]
  },
  {
   "cell_type": "code",
   "execution_count": 10,
   "metadata": {},
   "outputs": [],
   "source": [
    "trainLabel = labelProcess(r\"D:\\Unimelb\\Introduction to Machine Learning\\assignment2\\dataset\\dataset\\train_labels.csv\")\n",
    "validLabel = labelProcess(r\"D:\\Unimelb\\Introduction to Machine Learning\\assignment2\\dataset\\dataset\\valid_labels.csv\")\n",
    "#get classes\n",
    "classes = list(set(trainLabel))\n",
    "\n",
    "oneHotTrain = np.array(toOneHot(classes, trainLabel))\n",
    "oneHotvalid = np.array(toOneHot(classes, validLabel))"
   ]
  },
  {
   "cell_type": "markdown",
   "metadata": {},
   "source": [
    "Training"
   ]
  },
  {
   "cell_type": "code",
   "execution_count": 11,
   "metadata": {},
   "outputs": [
    {
     "name": "stdout",
     "output_type": "stream",
     "text": [
      "WARNING:tensorflow:From C:\\Users\\zippy\\anaconda3\\envs\\tensorflow\\lib\\site-packages\\tensorflow\\python\\framework\\op_def_library.py:263: colocate_with (from tensorflow.python.framework.ops) is deprecated and will be removed in a future version.\n",
      "Instructions for updating:\n",
      "Colocations handled automatically by placer.\n",
      "WARNING:tensorflow:From C:\\Users\\zippy\\anaconda3\\envs\\tensorflow\\lib\\site-packages\\keras\\backend\\tensorflow_backend.py:3445: calling dropout (from tensorflow.python.ops.nn_ops) with keep_prob is deprecated and will be removed in a future version.\n",
      "Instructions for updating:\n",
      "Please use `rate` instead of `keep_prob`. Rate should be set to `rate = 1 - keep_prob`.\n",
      "_________________________________________________________________\n",
      "Layer (type)                 Output Shape              Param #   \n",
      "=================================================================\n",
      "conv1d_1 (Conv1D)            (None, 154, 128)          1408      \n",
      "_________________________________________________________________\n",
      "dropout_1 (Dropout)          (None, 154, 128)          0         \n",
      "_________________________________________________________________\n",
      "max_pooling1d_1 (MaxPooling1 (None, 77, 128)           0         \n",
      "_________________________________________________________________\n",
      "conv1d_2 (Conv1D)            (None, 77, 64)            81984     \n",
      "_________________________________________________________________\n",
      "flatten_1 (Flatten)          (None, 4928)              0         \n",
      "_________________________________________________________________\n",
      "dropout_2 (Dropout)          (None, 4928)              0         \n",
      "_________________________________________________________________\n",
      "dense_1 (Dense)              (None, 50)                246450    \n",
      "_________________________________________________________________\n",
      "dropout_3 (Dropout)          (None, 50)                0         \n",
      "_________________________________________________________________\n",
      "dense_2 (Dense)              (None, 8)                 408       \n",
      "=================================================================\n",
      "Total params: 330,250\n",
      "Trainable params: 330,250\n",
      "Non-trainable params: 0\n",
      "_________________________________________________________________\n"
     ]
    }
   ],
   "source": [
    "model = CNN(trainData, oneHotTrain)\n",
    "model.summary()"
   ]
  },
  {
   "cell_type": "code",
   "execution_count": 12,
   "metadata": {},
   "outputs": [
    {
     "name": "stdout",
     "output_type": "stream",
     "text": [
      "WARNING:tensorflow:From C:\\Users\\zippy\\anaconda3\\envs\\tensorflow\\lib\\site-packages\\tensorflow\\python\\ops\\math_ops.py:3066: to_int32 (from tensorflow.python.ops.math_ops) is deprecated and will be removed in a future version.\n",
      "Instructions for updating:\n",
      "Use tf.cast instead.\n",
      "Train on 6142 samples, validate on 1536 samples\n",
      "Epoch 1/100\n",
      "6142/6142 [==============================] - 4s 711us/step - loss: 1.5264 - acc: 0.4302 - val_loss: 1.3065 - val_acc: 0.5234\n",
      "Epoch 2/100\n",
      "6142/6142 [==============================] - 1s 190us/step - loss: 1.3090 - acc: 0.5202 - val_loss: 1.2588 - val_acc: 0.5547\n",
      "Epoch 3/100\n",
      "6142/6142 [==============================] - 1s 190us/step - loss: 1.2110 - acc: 0.5583 - val_loss: 1.1784 - val_acc: 0.5729\n",
      "Epoch 4/100\n",
      "6142/6142 [==============================] - 1s 189us/step - loss: 1.1370 - acc: 0.5913 - val_loss: 1.1343 - val_acc: 0.5964\n",
      "Epoch 5/100\n",
      "6142/6142 [==============================] - 1s 186us/step - loss: 1.0625 - acc: 0.6110 - val_loss: 1.0948 - val_acc: 0.6172\n",
      "Epoch 6/100\n",
      "6142/6142 [==============================] - 1s 185us/step - loss: 1.0116 - acc: 0.6369 - val_loss: 1.0644 - val_acc: 0.6224\n",
      "Epoch 7/100\n",
      "6142/6142 [==============================] - 1s 183us/step - loss: 0.9464 - acc: 0.6488 - val_loss: 1.0485 - val_acc: 0.6283\n",
      "Epoch 8/100\n",
      "6142/6142 [==============================] - 1s 179us/step - loss: 0.8954 - acc: 0.6814 - val_loss: 1.0296 - val_acc: 0.6328\n",
      "Epoch 9/100\n",
      "6142/6142 [==============================] - 1s 172us/step - loss: 0.8374 - acc: 0.6916 - val_loss: 1.0270 - val_acc: 0.6413\n",
      "Epoch 10/100\n",
      "6142/6142 [==============================] - 1s 181us/step - loss: 0.7879 - acc: 0.7058 - val_loss: 1.0395 - val_acc: 0.6335\n",
      "Epoch 11/100\n",
      "6142/6142 [==============================] - 1s 186us/step - loss: 0.7346 - acc: 0.7240 - val_loss: 1.0404 - val_acc: 0.6413\n",
      "Epoch 12/100\n",
      "6142/6142 [==============================] - 1s 176us/step - loss: 0.6961 - acc: 0.7349 - val_loss: 1.0456 - val_acc: 0.6387\n",
      "Epoch 00012: early stopping\n",
      "Finish training\n"
     ]
    }
   ],
   "source": [
    "history = train(trainData, oneHotTrain, model)\n",
    "print(\"Finish training\")"
   ]
  },
  {
   "cell_type": "code",
   "execution_count": 13,
   "metadata": {},
   "outputs": [
    {
     "name": "stdout",
     "output_type": "stream",
     "text": [
      "450/450 [==============================] - 0s 157us/step\n",
      "loss, accuracy: 1.6891232670678034 0.4822222222222222\n"
     ]
    }
   ],
   "source": [
    "loss, accuracy = evaluate(validData, oneHotvalid, model)\n",
    "print(\"loss, accuracy:\", loss, accuracy)"
   ]
  },
  {
   "cell_type": "markdown",
   "metadata": {},
   "source": [
    "Predict"
   ]
  },
  {
   "cell_type": "code",
   "execution_count": null,
   "metadata": {},
   "outputs": [],
   "source": [
    "trackID = pd.read_csv(r\"D:\\Unimelb\\Introduction to Machine Learning\\assignment2\\dataset\\dataset\\test_features.csv\").loc[:, \"trackID\"].values.tolist()\n",
    "prediction = predict(testData, model)"
   ]
  },
  {
   "cell_type": "code",
   "execution_count": null,
   "metadata": {},
   "outputs": [],
   "source": [
    "results_name = []\n",
    "\n",
    "for result in prediction:\n",
    "    results_name.append(classes[result])\n",
    "\n",
    "result = list(zip(trackID,results_name))"
   ]
  },
  {
   "cell_type": "code",
   "execution_count": null,
   "metadata": {},
   "outputs": [],
   "source": [
    "#file = \"audio_CNN_outPut.csv\"\n",
    "file = \"meta+audio_CNN_outPut.csv\"\n",
    "with open(file, 'w', newline='') as csvFile:\n",
    "    writer = csv.writer(csvFile)\n",
    "    writer.writerow([\"trackID\", \"genre\"])\n",
    "    writer.writerows(result)"
   ]
  },
  {
   "cell_type": "code",
   "execution_count": null,
   "metadata": {},
   "outputs": [],
   "source": []
  }
 ],
 "metadata": {
  "kernelspec": {
   "display_name": "Python 3",
   "language": "python",
   "name": "python3"
  },
  "language_info": {
   "codemirror_mode": {
    "name": "ipython",
    "version": 3
   },
   "file_extension": ".py",
   "mimetype": "text/x-python",
   "name": "python",
   "nbconvert_exporter": "python",
   "pygments_lexer": "ipython3",
   "version": "3.6.10"
  }
 },
 "nbformat": 4,
 "nbformat_minor": 4
}

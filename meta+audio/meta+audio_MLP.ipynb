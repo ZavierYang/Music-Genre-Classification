{
 "cells": [
  {
   "cell_type": "code",
   "execution_count": 1,
   "metadata": {},
   "outputs": [
    {
     "name": "stderr",
     "output_type": "stream",
     "text": [
      "Using TensorFlow backend.\n",
      "C:\\Users\\zippy\\anaconda3\\envs\\tensorflow\\lib\\site-packages\\tensorflow\\python\\framework\\dtypes.py:526: FutureWarning: Passing (type, 1) or '1type' as a synonym of type is deprecated; in a future version of numpy, it will be understood as (type, (1,)) / '(1,)type'.\n",
      "  _np_qint8 = np.dtype([(\"qint8\", np.int8, 1)])\n",
      "C:\\Users\\zippy\\anaconda3\\envs\\tensorflow\\lib\\site-packages\\tensorflow\\python\\framework\\dtypes.py:527: FutureWarning: Passing (type, 1) or '1type' as a synonym of type is deprecated; in a future version of numpy, it will be understood as (type, (1,)) / '(1,)type'.\n",
      "  _np_quint8 = np.dtype([(\"quint8\", np.uint8, 1)])\n",
      "C:\\Users\\zippy\\anaconda3\\envs\\tensorflow\\lib\\site-packages\\tensorflow\\python\\framework\\dtypes.py:528: FutureWarning: Passing (type, 1) or '1type' as a synonym of type is deprecated; in a future version of numpy, it will be understood as (type, (1,)) / '(1,)type'.\n",
      "  _np_qint16 = np.dtype([(\"qint16\", np.int16, 1)])\n",
      "C:\\Users\\zippy\\anaconda3\\envs\\tensorflow\\lib\\site-packages\\tensorflow\\python\\framework\\dtypes.py:529: FutureWarning: Passing (type, 1) or '1type' as a synonym of type is deprecated; in a future version of numpy, it will be understood as (type, (1,)) / '(1,)type'.\n",
      "  _np_quint16 = np.dtype([(\"quint16\", np.uint16, 1)])\n",
      "C:\\Users\\zippy\\anaconda3\\envs\\tensorflow\\lib\\site-packages\\tensorflow\\python\\framework\\dtypes.py:530: FutureWarning: Passing (type, 1) or '1type' as a synonym of type is deprecated; in a future version of numpy, it will be understood as (type, (1,)) / '(1,)type'.\n",
      "  _np_qint32 = np.dtype([(\"qint32\", np.int32, 1)])\n",
      "C:\\Users\\zippy\\anaconda3\\envs\\tensorflow\\lib\\site-packages\\tensorflow\\python\\framework\\dtypes.py:535: FutureWarning: Passing (type, 1) or '1type' as a synonym of type is deprecated; in a future version of numpy, it will be understood as (type, (1,)) / '(1,)type'.\n",
      "  np_resource = np.dtype([(\"resource\", np.ubyte, 1)])\n"
     ]
    }
   ],
   "source": [
    "import pandas as pd\n",
    "import numpy as np\n",
    "import keras\n",
    "import csv\n",
    "from keras.models import Sequential\n",
    "from keras.layers import Dense\n",
    "from keras.layers import Dropout\n",
    "import matplotlib.pyplot as plt"
   ]
  },
  {
   "cell_type": "code",
   "execution_count": 2,
   "metadata": {},
   "outputs": [],
   "source": [
    "# This function should transform data into a usable format \n",
    "def featureProcess(path):\n",
    "    data = pd.read_csv(path)\n",
    "    #get features data from loudness to vect148\n",
    "    features = data.loc[:, \"loudness\":\"vect_148\"]\n",
    "\n",
    "    return features.values.tolist()"
   ]
  },
  {
   "cell_type": "code",
   "execution_count": 3,
   "metadata": {},
   "outputs": [],
   "source": [
    "# This function should transform data into a usable format \n",
    "def featureNormalProcess(path):\n",
    "    data = pd.read_csv(path)\n",
    "    #get audio data from vect1 to vect148\n",
    "    #featureData = data.loc[:, \"vect_1\":\"vect_148\"]\n",
    "    \n",
    "    #get feature data from loudness to vect148\n",
    "    featureData = data.loc[:, \"loudness\":\"vect_148\"]\n",
    "    \n",
    "    # normalization\n",
    "    featureData=(featureData-featureData.mean())/featureData.std()\n",
    "    \n",
    "    return featureData.values.tolist()"
   ]
  },
  {
   "cell_type": "code",
   "execution_count": 4,
   "metadata": {},
   "outputs": [],
   "source": [
    "# This function should transform data into a usable format \n",
    "def labelProcess(path):\n",
    "    data = pd.read_csv(path)\n",
    "    #get classes\n",
    "    labels = data.loc[:,\"genre\"].values.tolist()\n",
    "    \n",
    "    return labels"
   ]
  },
  {
   "cell_type": "code",
   "execution_count": 5,
   "metadata": {},
   "outputs": [],
   "source": [
    "def toOneHot(classes, labels):\n",
    "    one_hot_labels = []\n",
    "\n",
    "    for label in labels:\n",
    "        one_hot_vector = [0] * len(classes)\n",
    "        one_hot_vector[classes.index(label)] = 1\n",
    "\n",
    "        one_hot_labels.append(one_hot_vector)\n",
    "    return one_hot_labels"
   ]
  },
  {
   "cell_type": "code",
   "execution_count": 6,
   "metadata": {},
   "outputs": [],
   "source": [
    "def MLP(trainData, trainLabel):\n",
    "    \n",
    "    num_classes = len(trainLabel[0])  # total classes to train\n",
    "    \n",
    "    model = keras.models.Sequential()\n",
    "    model.add(Dense(trainData.shape[1], input_shape = trainData.shape[1:], activation=\"relu\", kernel_initializer=\"random_uniform\"))\n",
    "    model.add(Dropout(0.5))\n",
    "    model.add(Dense(1000, activation=\"relu\", kernel_initializer=\"random_uniform\"))\n",
    "    model.add(Dropout(0.5))\n",
    "    model.add(Dense(500, activation=\"relu\", kernel_initializer=\"random_uniform\"))\n",
    "    model.add(Dropout(0.5))\n",
    "    model.add(Dense(100, activation=\"relu\", kernel_initializer=\"random_uniform\"))\n",
    "    model.add(Dropout(0.5))\n",
    "    model.add(Dense(num_classes, activation=\"softmax\", kernel_initializer=\"random_uniform\"))\n",
    "\n",
    "    #Define loss, optimizer, and metrics\n",
    "    model.compile(loss='categorical_crossentropy', optimizer='adam', metrics=['accuracy'])\n",
    "    return model"
   ]
  },
  {
   "cell_type": "code",
   "execution_count": 7,
   "metadata": {},
   "outputs": [],
   "source": [
    "def train(trainData, trainLabel, model):\n",
    "    \n",
    "    batch_size = 32  #the number of data to feed into model per batch\n",
    "    num_epoch = 50  # go through your training data epoch times\n",
    "    \n",
    "    #callbacks stop training if val_loss is not improving.\n",
    "    callbacks = [keras.callbacks.EarlyStopping(monitor='val_loss', patience=5, verbose = 1)]\n",
    "    \n",
    "    history = model.fit(trainData, trainLabel, validation_split=0.2, epochs = num_epoch, batch_size=batch_size, verbose=1, callbacks = callbacks)\n",
    "                 \n",
    "    return history, model"
   ]
  },
  {
   "cell_type": "code",
   "execution_count": 8,
   "metadata": {},
   "outputs": [],
   "source": [
    "def evaluate(validData, validLabel, model):\n",
    "    loss, accuracy = model.evaluate(validData, validLabel)\n",
    "    return loss, accuracy"
   ]
  },
  {
   "cell_type": "code",
   "execution_count": 9,
   "metadata": {},
   "outputs": [],
   "source": [
    "def predict(testData, model):\n",
    "    result = model.predict_classes(testData, verbose=1)\n",
    "    return result"
   ]
  },
  {
   "cell_type": "markdown",
   "metadata": {},
   "source": [
    "DATA Preprocess"
   ]
  },
  {
   "cell_type": "code",
   "execution_count": 10,
   "metadata": {},
   "outputs": [],
   "source": [
    "trainData = np.array(featureNormalProcess(r\"D:\\Unimelb\\Introduction to Machine Learning\\assignment2\\dataset\\dataset\\train_features.csv\"))\n",
    "validData = np.array(featureNormalProcess(r\"D:\\Unimelb\\Introduction to Machine Learning\\assignment2\\dataset\\dataset\\valid_features.csv\"))\n",
    "testData = np.array(featureNormalProcess(r\"D:\\Unimelb\\Introduction to Machine Learning\\assignment2\\dataset\\dataset\\test_features.csv\"))"
   ]
  },
  {
   "cell_type": "code",
   "execution_count": 11,
   "metadata": {},
   "outputs": [],
   "source": [
    "trainLabel = labelProcess(r\"D:\\Unimelb\\Introduction to Machine Learning\\assignment2\\dataset\\dataset\\train_labels.csv\")\n",
    "validLabel = labelProcess(r\"D:\\Unimelb\\Introduction to Machine Learning\\assignment2\\dataset\\dataset\\valid_labels.csv\")\n",
    "#get classes\n",
    "classes = list(set(trainLabel))\n",
    "\n",
    "oneHotTrain = np.array(toOneHot(classes, trainLabel))\n",
    "oneHotvalid = np.array(toOneHot(classes, validLabel))"
   ]
  },
  {
   "cell_type": "markdown",
   "metadata": {},
   "source": [
    "Training"
   ]
  },
  {
   "cell_type": "code",
   "execution_count": 12,
   "metadata": {},
   "outputs": [
    {
     "name": "stdout",
     "output_type": "stream",
     "text": [
      "WARNING:tensorflow:From C:\\Users\\zippy\\anaconda3\\envs\\tensorflow\\lib\\site-packages\\tensorflow\\python\\framework\\op_def_library.py:263: colocate_with (from tensorflow.python.framework.ops) is deprecated and will be removed in a future version.\n",
      "Instructions for updating:\n",
      "Colocations handled automatically by placer.\n",
      "WARNING:tensorflow:From C:\\Users\\zippy\\anaconda3\\envs\\tensorflow\\lib\\site-packages\\keras\\backend\\tensorflow_backend.py:3445: calling dropout (from tensorflow.python.ops.nn_ops) with keep_prob is deprecated and will be removed in a future version.\n",
      "Instructions for updating:\n",
      "Please use `rate` instead of `keep_prob`. Rate should be set to `rate = 1 - keep_prob`.\n",
      "_________________________________________________________________\n",
      "Layer (type)                 Output Shape              Param #   \n",
      "=================================================================\n",
      "dense_1 (Dense)              (None, 148)               22052     \n",
      "_________________________________________________________________\n",
      "dropout_1 (Dropout)          (None, 148)               0         \n",
      "_________________________________________________________________\n",
      "dense_2 (Dense)              (None, 1000)              149000    \n",
      "_________________________________________________________________\n",
      "dropout_2 (Dropout)          (None, 1000)              0         \n",
      "_________________________________________________________________\n",
      "dense_3 (Dense)              (None, 500)               500500    \n",
      "_________________________________________________________________\n",
      "dropout_3 (Dropout)          (None, 500)               0         \n",
      "_________________________________________________________________\n",
      "dense_4 (Dense)              (None, 100)               50100     \n",
      "_________________________________________________________________\n",
      "dropout_4 (Dropout)          (None, 100)               0         \n",
      "_________________________________________________________________\n",
      "dense_5 (Dense)              (None, 8)                 808       \n",
      "=================================================================\n",
      "Total params: 722,460\n",
      "Trainable params: 722,460\n",
      "Non-trainable params: 0\n",
      "_________________________________________________________________\n"
     ]
    }
   ],
   "source": [
    "model = MLP(trainData, oneHotTrain)\n",
    "model.summary()"
   ]
  },
  {
   "cell_type": "code",
   "execution_count": 13,
   "metadata": {
    "scrolled": true
   },
   "outputs": [
    {
     "name": "stdout",
     "output_type": "stream",
     "text": [
      "WARNING:tensorflow:From C:\\Users\\zippy\\anaconda3\\envs\\tensorflow\\lib\\site-packages\\tensorflow\\python\\ops\\math_ops.py:3066: to_int32 (from tensorflow.python.ops.math_ops) is deprecated and will be removed in a future version.\n",
      "Instructions for updating:\n",
      "Use tf.cast instead.\n",
      "Train on 6142 samples, validate on 1536 samples\n",
      "Epoch 1/50\n",
      "6142/6142 [==============================] - 3s 503us/step - loss: 1.6371 - acc: 0.3758 - val_loss: 1.4093 - val_acc: 0.4674\n",
      "Epoch 2/50\n",
      "6142/6142 [==============================] - 1s 155us/step - loss: 1.4600 - acc: 0.4499 - val_loss: 1.3532 - val_acc: 0.5091\n",
      "Epoch 3/50\n",
      "6142/6142 [==============================] - 1s 141us/step - loss: 1.4197 - acc: 0.4728 - val_loss: 1.3367 - val_acc: 0.5111\n",
      "Epoch 4/50\n",
      "6142/6142 [==============================] - 1s 141us/step - loss: 1.3871 - acc: 0.4819 - val_loss: 1.3132 - val_acc: 0.5254\n",
      "Epoch 5/50\n",
      "6142/6142 [==============================] - 1s 147us/step - loss: 1.3491 - acc: 0.5049 - val_loss: 1.2773 - val_acc: 0.5378\n",
      "Epoch 6/50\n",
      "6142/6142 [==============================] - 1s 143us/step - loss: 1.3298 - acc: 0.5160 - val_loss: 1.2565 - val_acc: 0.5547\n",
      "Epoch 7/50\n",
      "6142/6142 [==============================] - 1s 141us/step - loss: 1.3155 - acc: 0.5103 - val_loss: 1.2145 - val_acc: 0.5651\n",
      "Epoch 8/50\n",
      "6142/6142 [==============================] - 1s 141us/step - loss: 1.2857 - acc: 0.5392 - val_loss: 1.2147 - val_acc: 0.5710\n",
      "Epoch 9/50\n",
      "6142/6142 [==============================] - 1s 142us/step - loss: 1.2528 - acc: 0.5397 - val_loss: 1.2008 - val_acc: 0.5885\n",
      "Epoch 10/50\n",
      "6142/6142 [==============================] - 1s 140us/step - loss: 1.2496 - acc: 0.5497 - val_loss: 1.1798 - val_acc: 0.5827\n",
      "Epoch 11/50\n",
      "6142/6142 [==============================] - 1s 143us/step - loss: 1.2228 - acc: 0.5545 - val_loss: 1.1522 - val_acc: 0.5911\n",
      "Epoch 12/50\n",
      "6142/6142 [==============================] - 1s 141us/step - loss: 1.2113 - acc: 0.5583 - val_loss: 1.1655 - val_acc: 0.5983\n",
      "Epoch 13/50\n",
      "6142/6142 [==============================] - 1s 141us/step - loss: 1.1918 - acc: 0.5676 - val_loss: 1.1399 - val_acc: 0.6003\n",
      "Epoch 14/50\n",
      "6142/6142 [==============================] - 1s 143us/step - loss: 1.1908 - acc: 0.5754 - val_loss: 1.1448 - val_acc: 0.5990\n",
      "Epoch 15/50\n",
      "6142/6142 [==============================] - 1s 132us/step - loss: 1.1660 - acc: 0.5718 - val_loss: 1.1225 - val_acc: 0.6042\n",
      "Epoch 16/50\n",
      "6142/6142 [==============================] - 1s 139us/step - loss: 1.1435 - acc: 0.5809 - val_loss: 1.1233 - val_acc: 0.6087\n",
      "Epoch 17/50\n",
      "6142/6142 [==============================] - 1s 147us/step - loss: 1.1520 - acc: 0.5842 - val_loss: 1.1188 - val_acc: 0.6061\n",
      "Epoch 18/50\n",
      "6142/6142 [==============================] - 1s 143us/step - loss: 1.1323 - acc: 0.5992 - val_loss: 1.1280 - val_acc: 0.6029\n",
      "Epoch 19/50\n",
      "6142/6142 [==============================] - 1s 140us/step - loss: 1.1271 - acc: 0.6055 - val_loss: 1.1231 - val_acc: 0.6035\n",
      "Epoch 20/50\n",
      "6142/6142 [==============================] - 1s 143us/step - loss: 1.1117 - acc: 0.6050 - val_loss: 1.1190 - val_acc: 0.6172\n",
      "Epoch 21/50\n",
      "6142/6142 [==============================] - 1s 148us/step - loss: 1.1212 - acc: 0.5974 - val_loss: 1.1056 - val_acc: 0.6081\n",
      "Epoch 22/50\n",
      "6142/6142 [==============================] - 1s 147us/step - loss: 1.1055 - acc: 0.6016 - val_loss: 1.1006 - val_acc: 0.6139\n",
      "Epoch 23/50\n",
      "6142/6142 [==============================] - 1s 147us/step - loss: 1.0826 - acc: 0.6092 - val_loss: 1.0982 - val_acc: 0.6165\n",
      "Epoch 24/50\n",
      "6142/6142 [==============================] - 1s 148us/step - loss: 1.1151 - acc: 0.6092 - val_loss: 1.0935 - val_acc: 0.6009\n",
      "Epoch 25/50\n",
      "6142/6142 [==============================] - 1s 148us/step - loss: 1.0856 - acc: 0.6062 - val_loss: 1.0906 - val_acc: 0.6120\n",
      "Epoch 26/50\n",
      "6142/6142 [==============================] - 1s 136us/step - loss: 1.0785 - acc: 0.6223 - val_loss: 1.0831 - val_acc: 0.6237\n",
      "Epoch 27/50\n",
      "6142/6142 [==============================] - 1s 141us/step - loss: 1.0698 - acc: 0.6140 - val_loss: 1.0783 - val_acc: 0.6348\n",
      "Epoch 28/50\n",
      "6142/6142 [==============================] - 1s 145us/step - loss: 1.0615 - acc: 0.6268 - val_loss: 1.0780 - val_acc: 0.6270\n",
      "Epoch 29/50\n",
      "6142/6142 [==============================] - 1s 144us/step - loss: 1.0584 - acc: 0.6120 - val_loss: 1.0876 - val_acc: 0.6133\n",
      "Epoch 30/50\n",
      "6142/6142 [==============================] - 1s 144us/step - loss: 1.0305 - acc: 0.6288 - val_loss: 1.0802 - val_acc: 0.6276\n",
      "Epoch 31/50\n",
      "6142/6142 [==============================] - 1s 149us/step - loss: 1.0370 - acc: 0.6329 - val_loss: 1.0794 - val_acc: 0.6393\n",
      "Epoch 32/50\n",
      "6142/6142 [==============================] - 1s 152us/step - loss: 1.0095 - acc: 0.6376 - val_loss: 1.0504 - val_acc: 0.6335\n",
      "Epoch 33/50\n",
      "6142/6142 [==============================] - 1s 151us/step - loss: 1.0006 - acc: 0.6407 - val_loss: 1.0668 - val_acc: 0.6276\n",
      "Epoch 34/50\n",
      "6142/6142 [==============================] - 1s 154us/step - loss: 1.0189 - acc: 0.6428 - val_loss: 1.0584 - val_acc: 0.6146\n",
      "Epoch 35/50\n",
      "6142/6142 [==============================] - 1s 149us/step - loss: 1.0078 - acc: 0.6443 - val_loss: 1.0619 - val_acc: 0.6393\n",
      "Epoch 36/50\n",
      "6142/6142 [==============================] - 1s 153us/step - loss: 0.9879 - acc: 0.6459 - val_loss: 1.0619 - val_acc: 0.6341\n",
      "Epoch 37/50\n",
      "6142/6142 [==============================] - 1s 146us/step - loss: 0.9932 - acc: 0.6522 - val_loss: 1.0559 - val_acc: 0.6374\n",
      "Epoch 00037: early stopping\n",
      "Finish training\n"
     ]
    }
   ],
   "source": [
    "history, _= train(trainData, oneHotTrain, model)\n",
    "print(\"Finish training\")"
   ]
  },
  {
   "cell_type": "code",
   "execution_count": 14,
   "metadata": {},
   "outputs": [
    {
     "name": "stdout",
     "output_type": "stream",
     "text": [
      "450/450 [==============================] - 0s 49us/step\n",
      "loss, accuracy: 1.6877009942796495 0.46444444444444444\n"
     ]
    }
   ],
   "source": [
    "loss, accuracy = evaluate(validData, oneHotvalid, model)\n",
    "print(\"loss, accuracy:\", loss, accuracy)"
   ]
  },
  {
   "cell_type": "code",
   "execution_count": null,
   "metadata": {},
   "outputs": [],
   "source": [
    "plt.plot(history.history['loss'])\n",
    "plt.plot(history.history['val_loss'])\n",
    "plt.title('model loss')\n",
    "plt.ylabel('loss')\n",
    "plt.xlabel('epoch')\n",
    "plt.legend(['train', 'test'], loc='upper left')\n",
    "plt.show()"
   ]
  },
  {
   "cell_type": "markdown",
   "metadata": {},
   "source": [
    "Predict"
   ]
  },
  {
   "cell_type": "code",
   "execution_count": 15,
   "metadata": {},
   "outputs": [
    {
     "name": "stdout",
     "output_type": "stream",
     "text": [
      "428/428 [==============================] - 0s 383us/step\n"
     ]
    }
   ],
   "source": [
    "trackID = pd.read_csv(r\"D:\\Unimelb\\Introduction to Machine Learning\\assignment2\\dataset\\dataset\\test_features.csv\").loc[:, \"trackID\"].values.tolist()\n",
    "prediction = predict(testData, model)"
   ]
  },
  {
   "cell_type": "code",
   "execution_count": 16,
   "metadata": {},
   "outputs": [],
   "source": [
    "results_name = []\n",
    "\n",
    "for result in prediction:\n",
    "    results_name.append(classes[result])\n",
    "\n",
    "result = list(zip(trackID,results_name))"
   ]
  },
  {
   "cell_type": "code",
   "execution_count": 18,
   "metadata": {},
   "outputs": [],
   "source": [
    "#file = \"audio_MLP_outPut.csv\"\n",
    "file = \"meta+audio_MLP_outPut.csv\"\n",
    "with open(file, 'w', newline='') as csvFile:\n",
    "    writer = csv.writer(csvFile)\n",
    "    writer.writerow([\"trackID\", \"genre\"])\n",
    "    writer.writerows(result)"
   ]
  },
  {
   "cell_type": "code",
   "execution_count": null,
   "metadata": {},
   "outputs": [],
   "source": []
  }
 ],
 "metadata": {
  "kernelspec": {
   "display_name": "Python 3",
   "language": "python",
   "name": "python3"
  },
  "language_info": {
   "codemirror_mode": {
    "name": "ipython",
    "version": 3
   },
   "file_extension": ".py",
   "mimetype": "text/x-python",
   "name": "python",
   "nbconvert_exporter": "python",
   "pygments_lexer": "ipython3",
   "version": "3.6.10"
  }
 },
 "nbformat": 4,
 "nbformat_minor": 4
}

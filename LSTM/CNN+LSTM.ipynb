{
 "cells": [
  {
   "cell_type": "code",
   "execution_count": 1,
   "metadata": {},
   "outputs": [
    {
     "name": "stderr",
     "output_type": "stream",
     "text": [
      "Using TensorFlow backend.\n",
      "C:\\Users\\zippy\\anaconda3\\envs\\tensorflow\\lib\\site-packages\\tensorflow\\python\\framework\\dtypes.py:526: FutureWarning: Passing (type, 1) or '1type' as a synonym of type is deprecated; in a future version of numpy, it will be understood as (type, (1,)) / '(1,)type'.\n",
      "  _np_qint8 = np.dtype([(\"qint8\", np.int8, 1)])\n",
      "C:\\Users\\zippy\\anaconda3\\envs\\tensorflow\\lib\\site-packages\\tensorflow\\python\\framework\\dtypes.py:527: FutureWarning: Passing (type, 1) or '1type' as a synonym of type is deprecated; in a future version of numpy, it will be understood as (type, (1,)) / '(1,)type'.\n",
      "  _np_quint8 = np.dtype([(\"quint8\", np.uint8, 1)])\n",
      "C:\\Users\\zippy\\anaconda3\\envs\\tensorflow\\lib\\site-packages\\tensorflow\\python\\framework\\dtypes.py:528: FutureWarning: Passing (type, 1) or '1type' as a synonym of type is deprecated; in a future version of numpy, it will be understood as (type, (1,)) / '(1,)type'.\n",
      "  _np_qint16 = np.dtype([(\"qint16\", np.int16, 1)])\n",
      "C:\\Users\\zippy\\anaconda3\\envs\\tensorflow\\lib\\site-packages\\tensorflow\\python\\framework\\dtypes.py:529: FutureWarning: Passing (type, 1) or '1type' as a synonym of type is deprecated; in a future version of numpy, it will be understood as (type, (1,)) / '(1,)type'.\n",
      "  _np_quint16 = np.dtype([(\"quint16\", np.uint16, 1)])\n",
      "C:\\Users\\zippy\\anaconda3\\envs\\tensorflow\\lib\\site-packages\\tensorflow\\python\\framework\\dtypes.py:530: FutureWarning: Passing (type, 1) or '1type' as a synonym of type is deprecated; in a future version of numpy, it will be understood as (type, (1,)) / '(1,)type'.\n",
      "  _np_qint32 = np.dtype([(\"qint32\", np.int32, 1)])\n",
      "C:\\Users\\zippy\\anaconda3\\envs\\tensorflow\\lib\\site-packages\\tensorflow\\python\\framework\\dtypes.py:535: FutureWarning: Passing (type, 1) or '1type' as a synonym of type is deprecated; in a future version of numpy, it will be understood as (type, (1,)) / '(1,)type'.\n",
      "  np_resource = np.dtype([(\"resource\", np.ubyte, 1)])\n"
     ]
    }
   ],
   "source": [
    "import pandas as pd\n",
    "import numpy as np\n",
    "import csv\n",
    "import keras\n",
    "from keras.models import Sequential\n",
    "from keras.layers.recurrent import LSTM\n",
    "from keras.layers import Dense, Dropout, Conv1D, MaxPooling1D"
   ]
  },
  {
   "cell_type": "code",
   "execution_count": 2,
   "metadata": {},
   "outputs": [],
   "source": [
    "# This function should transform data into a usable format \n",
    "def featureProcess(path):\n",
    "    data = pd.read_csv(path)\n",
    "    #get audio data from vect1 to vect148\n",
    "    #featureData = data.loc[:, \"vect_1\":\"vect_148\"]\n",
    "    \n",
    "    #get feature data from loudness to vect148\n",
    "    featureData = data.loc[:, \"loudness\":\"vect_148\"]\n",
    "    \n",
    "    # normalization\n",
    "    featureData=(featureData-featureData.mean())/featureData.std()\n",
    "    \n",
    "    return featureData.values.tolist()"
   ]
  },
  {
   "cell_type": "code",
   "execution_count": 3,
   "metadata": {},
   "outputs": [],
   "source": [
    "# This function should transform data into a usable format \n",
    "def labelProcess(path):\n",
    "    data = pd.read_csv(path)\n",
    "    #get classes\n",
    "    labels = data.loc[:,\"genre\"].values.tolist()\n",
    "    \n",
    "    \n",
    "    return labels"
   ]
  },
  {
   "cell_type": "code",
   "execution_count": 4,
   "metadata": {},
   "outputs": [],
   "source": [
    "def toOneHot(classes, labels):\n",
    "    one_hot_labels = []\n",
    "\n",
    "    for label in labels:\n",
    "        one_hot_vector = [0] * len(classes)\n",
    "        one_hot_vector[classes.index(label)] = 1\n",
    "\n",
    "        one_hot_labels.append(one_hot_vector)\n",
    "    return one_hot_labels"
   ]
  },
  {
   "cell_type": "code",
   "execution_count": 5,
   "metadata": {},
   "outputs": [],
   "source": [
    "def LSTMModel(trainData, trainLabel):\n",
    "    \n",
    "    num_classes = len(trainLabel[0])  # total classes to train\n",
    "    model = keras.models.Sequential()\n",
    "    \n",
    "    #all feature\n",
    "    #model.add(Conv1D(128, 10,padding=\"same\", input_shape=(148, 1), activation=\"relu\", kernel_initializer=\"random_uniform\"))\n",
    "    \n",
    "    #audio feature\n",
    "    model.add(Conv1D(128, 10,padding=\"same\", input_shape=(154, 1), activation=\"relu\", kernel_initializer=\"random_uniform\"))\n",
    "    \n",
    "    model.add(Dropout(0.25))\n",
    "    model.add(MaxPooling1D(pool_size=(2)))\n",
    "    model.add(Conv1D(64, 10,padding=\"same\", activation=\"relu\", kernel_initializer=\"random_uniform\"))\n",
    "    \n",
    "    model.add(LSTM(50,  dropout=0.25, recurrent_dropout=0.25, return_sequences=False, kernel_initializer=\"random_uniform\"))\n",
    "    model.add(Dense(num_classes, activation=\"softmax\", kernel_initializer=\"random_uniform\"))\n",
    "    \n",
    "    \n",
    "    #Define loss, optimizer, and metrics\n",
    "    model.compile(loss='categorical_crossentropy', optimizer=\"adam\", metrics=['accuracy'])\n",
    "    return model"
   ]
  },
  {
   "cell_type": "code",
   "execution_count": 6,
   "metadata": {},
   "outputs": [],
   "source": [
    "def train(trainData, trainLabel, model):\n",
    "    \n",
    "    batch_size = 32  #the number of data to feed into model per batch\n",
    "    num_epoch = 100  # go through your training data epoch times\n",
    "    \n",
    "    #callbacks stop training if val_loss is not improving.\n",
    "    callbacks = [keras.callbacks.EarlyStopping(monitor='val_loss', patience=5, verbose = 1)]\n",
    "    \n",
    "    history = model.fit(trainData, trainLabel, validation_split=0.2, epochs = num_epoch, batch_size=batch_size, verbose=1, callbacks = callbacks)\n",
    "                 \n",
    "    return history, model"
   ]
  },
  {
   "cell_type": "code",
   "execution_count": 7,
   "metadata": {},
   "outputs": [],
   "source": [
    "def evaluate(validData, validLabel, model):\n",
    "    loss, accuracy = model.evaluate(validData, validLabel)\n",
    "    return loss, accuracy"
   ]
  },
  {
   "cell_type": "code",
   "execution_count": 8,
   "metadata": {},
   "outputs": [],
   "source": [
    "def predict(testData, model):\n",
    "    result = model.predict_classes(testData, verbose=1)\n",
    "    return result"
   ]
  },
  {
   "cell_type": "markdown",
   "metadata": {},
   "source": [
    "DATA Preprocess"
   ]
  },
  {
   "cell_type": "code",
   "execution_count": 9,
   "metadata": {},
   "outputs": [],
   "source": [
    "trainData = np.expand_dims(np.array(featureProcess(r\"D:\\Unimelb\\Introduction to Machine Learning\\assignment2\\dataset\\dataset\\train_features.csv\")), axis=2)\n",
    "validData = np.expand_dims(np.array(featureProcess(r\"D:\\Unimelb\\Introduction to Machine Learning\\assignment2\\dataset\\dataset\\valid_features.csv\")), axis=2)\n",
    "testData = np.expand_dims(np.array(featureProcess(r\"D:\\Unimelb\\Introduction to Machine Learning\\assignment2\\dataset\\dataset\\test_features.csv\")), axis=2)"
   ]
  },
  {
   "cell_type": "code",
   "execution_count": 10,
   "metadata": {},
   "outputs": [],
   "source": [
    "trainLabel = labelProcess(r\"D:\\Unimelb\\Introduction to Machine Learning\\assignment2\\dataset\\dataset\\train_labels.csv\")\n",
    "validLabel = labelProcess(r\"D:\\Unimelb\\Introduction to Machine Learning\\assignment2\\dataset\\dataset\\valid_labels.csv\")\n",
    "#get classes\n",
    "classes = list(set(trainLabel))\n",
    "\n",
    "oneHotTrain = np.array(toOneHot(classes, trainLabel))\n",
    "oneHotvalid = np.array(toOneHot(classes, validLabel))"
   ]
  },
  {
   "cell_type": "markdown",
   "metadata": {},
   "source": [
    "Training"
   ]
  },
  {
   "cell_type": "code",
   "execution_count": 11,
   "metadata": {},
   "outputs": [
    {
     "name": "stdout",
     "output_type": "stream",
     "text": [
      "WARNING:tensorflow:From C:\\Users\\zippy\\anaconda3\\envs\\tensorflow\\lib\\site-packages\\tensorflow\\python\\framework\\op_def_library.py:263: colocate_with (from tensorflow.python.framework.ops) is deprecated and will be removed in a future version.\n",
      "Instructions for updating:\n",
      "Colocations handled automatically by placer.\n",
      "WARNING:tensorflow:From C:\\Users\\zippy\\anaconda3\\envs\\tensorflow\\lib\\site-packages\\keras\\backend\\tensorflow_backend.py:3445: calling dropout (from tensorflow.python.ops.nn_ops) with keep_prob is deprecated and will be removed in a future version.\n",
      "Instructions for updating:\n",
      "Please use `rate` instead of `keep_prob`. Rate should be set to `rate = 1 - keep_prob`.\n",
      "_________________________________________________________________\n",
      "Layer (type)                 Output Shape              Param #   \n",
      "=================================================================\n",
      "conv1d_1 (Conv1D)            (None, 148, 128)          1408      \n",
      "_________________________________________________________________\n",
      "dropout_1 (Dropout)          (None, 148, 128)          0         \n",
      "_________________________________________________________________\n",
      "max_pooling1d_1 (MaxPooling1 (None, 74, 128)           0         \n",
      "_________________________________________________________________\n",
      "conv1d_2 (Conv1D)            (None, 74, 64)            81984     \n",
      "_________________________________________________________________\n",
      "lstm_1 (LSTM)                (None, 50)                23000     \n",
      "_________________________________________________________________\n",
      "dense_1 (Dense)              (None, 8)                 408       \n",
      "=================================================================\n",
      "Total params: 106,800\n",
      "Trainable params: 106,800\n",
      "Non-trainable params: 0\n",
      "_________________________________________________________________\n"
     ]
    }
   ],
   "source": [
    "model = LSTMModel(trainData, oneHotTrain)\n",
    "model.summary()"
   ]
  },
  {
   "cell_type": "code",
   "execution_count": 12,
   "metadata": {},
   "outputs": [
    {
     "name": "stdout",
     "output_type": "stream",
     "text": [
      "WARNING:tensorflow:From C:\\Users\\zippy\\anaconda3\\envs\\tensorflow\\lib\\site-packages\\tensorflow\\python\\ops\\math_ops.py:3066: to_int32 (from tensorflow.python.ops.math_ops) is deprecated and will be removed in a future version.\n",
      "Instructions for updating:\n",
      "Use tf.cast instead.\n",
      "Train on 6142 samples, validate on 1536 samples\n",
      "Epoch 1/100\n",
      "6142/6142 [==============================] - 33s 5ms/step - loss: 1.8674 - acc: 0.2867 - val_loss: 1.7535 - val_acc: 0.3372\n",
      "Epoch 2/100\n",
      "6142/6142 [==============================] - 29s 5ms/step - loss: 1.6942 - acc: 0.3730 - val_loss: 1.6358 - val_acc: 0.4082\n",
      "Epoch 3/100\n",
      "6142/6142 [==============================] - 31s 5ms/step - loss: 1.6550 - acc: 0.3818 - val_loss: 1.6013 - val_acc: 0.4219\n",
      "Epoch 4/100\n",
      "6142/6142 [==============================] - 30s 5ms/step - loss: 1.6400 - acc: 0.3865 - val_loss: 1.6011 - val_acc: 0.4173\n",
      "Epoch 5/100\n",
      "6142/6142 [==============================] - 30s 5ms/step - loss: 1.6302 - acc: 0.3951 - val_loss: 1.6012 - val_acc: 0.4258\n",
      "Epoch 6/100\n",
      "6142/6142 [==============================] - 31s 5ms/step - loss: 1.6083 - acc: 0.3992 - val_loss: 1.5807 - val_acc: 0.4290\n",
      "Epoch 7/100\n",
      "6142/6142 [==============================] - 32s 5ms/step - loss: 1.5923 - acc: 0.4074 - val_loss: 1.5901 - val_acc: 0.4258\n",
      "Epoch 8/100\n",
      "6142/6142 [==============================] - 29s 5ms/step - loss: 1.5977 - acc: 0.3961 - val_loss: 1.6306 - val_acc: 0.3965\n",
      "Epoch 9/100\n",
      "6142/6142 [==============================] - 31s 5ms/step - loss: 1.6097 - acc: 0.3950 - val_loss: 1.5519 - val_acc: 0.4414\n",
      "Epoch 10/100\n",
      "6142/6142 [==============================] - 31s 5ms/step - loss: 1.5852 - acc: 0.4074 - val_loss: 1.5275 - val_acc: 0.4577\n",
      "Epoch 11/100\n",
      "6142/6142 [==============================] - 31s 5ms/step - loss: 1.5631 - acc: 0.4217 - val_loss: 1.4950 - val_acc: 0.4570\n",
      "Epoch 12/100\n",
      "6142/6142 [==============================] - 31s 5ms/step - loss: 1.5439 - acc: 0.4280 - val_loss: 1.5058 - val_acc: 0.4629\n",
      "Epoch 13/100\n",
      "6142/6142 [==============================] - 33s 5ms/step - loss: 1.5240 - acc: 0.4347 - val_loss: 1.4914 - val_acc: 0.4740\n",
      "Epoch 14/100\n",
      "6142/6142 [==============================] - 30s 5ms/step - loss: 1.5233 - acc: 0.4339 - val_loss: 1.4759 - val_acc: 0.4681\n",
      "Epoch 15/100\n",
      "6142/6142 [==============================] - 30s 5ms/step - loss: 1.4916 - acc: 0.4404 - val_loss: 1.4689 - val_acc: 0.4701\n",
      "Epoch 16/100\n",
      "6142/6142 [==============================] - 30s 5ms/step - loss: 1.4813 - acc: 0.4443 - val_loss: 1.4417 - val_acc: 0.4674\n",
      "Epoch 17/100\n",
      "6142/6142 [==============================] - 29s 5ms/step - loss: 1.4610 - acc: 0.4492 - val_loss: 1.4224 - val_acc: 0.4727\n",
      "Epoch 18/100\n",
      "6142/6142 [==============================] - 30s 5ms/step - loss: 1.4244 - acc: 0.4692 - val_loss: 1.3975 - val_acc: 0.4935\n",
      "Epoch 19/100\n",
      "6142/6142 [==============================] - 31s 5ms/step - loss: 1.4169 - acc: 0.4674 - val_loss: 1.3910 - val_acc: 0.4896\n",
      "Epoch 20/100\n",
      "6142/6142 [==============================] - 30s 5ms/step - loss: 1.4033 - acc: 0.4748 - val_loss: 1.3933 - val_acc: 0.4935\n",
      "Epoch 21/100\n",
      "6142/6142 [==============================] - 29s 5ms/step - loss: 1.4067 - acc: 0.4666 - val_loss: 1.3842 - val_acc: 0.4902\n",
      "Epoch 22/100\n",
      "6142/6142 [==============================] - 29s 5ms/step - loss: 1.3649 - acc: 0.4876 - val_loss: 1.3570 - val_acc: 0.5091\n",
      "Epoch 23/100\n",
      "6142/6142 [==============================] - 29s 5ms/step - loss: 1.3620 - acc: 0.4914 - val_loss: 1.3511 - val_acc: 0.5117\n",
      "Epoch 24/100\n",
      "6142/6142 [==============================] - 29s 5ms/step - loss: 1.3429 - acc: 0.5011 - val_loss: 1.3414 - val_acc: 0.4993\n",
      "Epoch 25/100\n",
      "6142/6142 [==============================] - 29s 5ms/step - loss: 1.3324 - acc: 0.5013 - val_loss: 1.3375 - val_acc: 0.5247\n",
      "Epoch 26/100\n",
      "6142/6142 [==============================] - 29s 5ms/step - loss: 1.3220 - acc: 0.5026 - val_loss: 1.3540 - val_acc: 0.5098\n",
      "Epoch 27/100\n",
      "6142/6142 [==============================] - 30s 5ms/step - loss: 1.3240 - acc: 0.4977 - val_loss: 1.3232 - val_acc: 0.5182\n",
      "Epoch 28/100\n",
      "6142/6142 [==============================] - 29s 5ms/step - loss: 1.3063 - acc: 0.5091 - val_loss: 1.3109 - val_acc: 0.5319\n",
      "Epoch 29/100\n",
      "6142/6142 [==============================] - 29s 5ms/step - loss: 1.2939 - acc: 0.5140 - val_loss: 1.3100 - val_acc: 0.5254\n",
      "Epoch 30/100\n",
      "6142/6142 [==============================] - 29s 5ms/step - loss: 1.2896 - acc: 0.5137 - val_loss: 1.2875 - val_acc: 0.5456\n",
      "Epoch 31/100\n",
      "6142/6142 [==============================] - 29s 5ms/step - loss: 1.2802 - acc: 0.5205 - val_loss: 1.2916 - val_acc: 0.5339\n",
      "Epoch 32/100\n",
      "6142/6142 [==============================] - 28s 5ms/step - loss: 1.2691 - acc: 0.5300 - val_loss: 1.2858 - val_acc: 0.5352\n",
      "Epoch 33/100\n",
      "6142/6142 [==============================] - 29s 5ms/step - loss: 1.2546 - acc: 0.5348 - val_loss: 1.2875 - val_acc: 0.5410\n",
      "Epoch 34/100\n",
      "6142/6142 [==============================] - 29s 5ms/step - loss: 1.2482 - acc: 0.5326 - val_loss: 1.2708 - val_acc: 0.5365\n",
      "Epoch 35/100\n",
      "6142/6142 [==============================] - 29s 5ms/step - loss: 1.2300 - acc: 0.5440 - val_loss: 1.2677 - val_acc: 0.5488\n",
      "Epoch 36/100\n",
      "6142/6142 [==============================] - 29s 5ms/step - loss: 1.2377 - acc: 0.5441 - val_loss: 1.2575 - val_acc: 0.5501\n",
      "Epoch 37/100\n",
      "6142/6142 [==============================] - 29s 5ms/step - loss: 1.2186 - acc: 0.5466 - val_loss: 1.2646 - val_acc: 0.5475\n",
      "Epoch 38/100\n",
      "6142/6142 [==============================] - 29s 5ms/step - loss: 1.1997 - acc: 0.5604 - val_loss: 1.2585 - val_acc: 0.5527\n",
      "Epoch 39/100\n",
      "6142/6142 [==============================] - 29s 5ms/step - loss: 1.2268 - acc: 0.5501 - val_loss: 1.2572 - val_acc: 0.5534\n",
      "Epoch 40/100\n",
      "6142/6142 [==============================] - 29s 5ms/step - loss: 1.2036 - acc: 0.5497 - val_loss: 1.2428 - val_acc: 0.5573\n",
      "Epoch 41/100\n",
      "6142/6142 [==============================] - 29s 5ms/step - loss: 1.2077 - acc: 0.5513 - val_loss: 1.2402 - val_acc: 0.5586\n",
      "Epoch 42/100\n",
      "6142/6142 [==============================] - 28s 5ms/step - loss: 1.1897 - acc: 0.5596 - val_loss: 1.2412 - val_acc: 0.5547\n",
      "Epoch 43/100\n",
      "6142/6142 [==============================] - 29s 5ms/step - loss: 1.1788 - acc: 0.5625 - val_loss: 1.2326 - val_acc: 0.5632\n",
      "Epoch 44/100\n",
      "6142/6142 [==============================] - 29s 5ms/step - loss: 1.1711 - acc: 0.5628 - val_loss: 1.2337 - val_acc: 0.5534\n",
      "Epoch 45/100\n",
      "6142/6142 [==============================] - 29s 5ms/step - loss: 1.1699 - acc: 0.5607 - val_loss: 1.2303 - val_acc: 0.5553\n",
      "Epoch 46/100\n",
      "6142/6142 [==============================] - 28s 5ms/step - loss: 1.1574 - acc: 0.5700 - val_loss: 1.2652 - val_acc: 0.5423\n",
      "Epoch 47/100\n",
      "6142/6142 [==============================] - 29s 5ms/step - loss: 1.1816 - acc: 0.5596 - val_loss: 1.2376 - val_acc: 0.5488\n",
      "Epoch 48/100\n",
      "6142/6142 [==============================] - 30s 5ms/step - loss: 1.1528 - acc: 0.5726 - val_loss: 1.2357 - val_acc: 0.5573\n",
      "Epoch 49/100\n",
      "6142/6142 [==============================] - 29s 5ms/step - loss: 1.1328 - acc: 0.5803 - val_loss: 1.2449 - val_acc: 0.5488\n",
      "Epoch 50/100\n",
      "6142/6142 [==============================] - 29s 5ms/step - loss: 1.1323 - acc: 0.5842 - val_loss: 1.2157 - val_acc: 0.5579\n",
      "Epoch 51/100\n",
      "6142/6142 [==============================] - 29s 5ms/step - loss: 1.1211 - acc: 0.5938 - val_loss: 1.2109 - val_acc: 0.5638\n",
      "Epoch 52/100\n",
      "6142/6142 [==============================] - 29s 5ms/step - loss: 1.1215 - acc: 0.5881 - val_loss: 1.2371 - val_acc: 0.5658\n",
      "Epoch 53/100\n",
      "6142/6142 [==============================] - 29s 5ms/step - loss: 1.1147 - acc: 0.5887 - val_loss: 1.2038 - val_acc: 0.5729\n",
      "Epoch 54/100\n",
      "6142/6142 [==============================] - 29s 5ms/step - loss: 1.0957 - acc: 0.5972 - val_loss: 1.2092 - val_acc: 0.5612\n",
      "Epoch 55/100\n",
      "6142/6142 [==============================] - 29s 5ms/step - loss: 1.0911 - acc: 0.6026 - val_loss: 1.2072 - val_acc: 0.5690\n",
      "Epoch 56/100\n",
      "6142/6142 [==============================] - 29s 5ms/step - loss: 1.0866 - acc: 0.5990 - val_loss: 1.2119 - val_acc: 0.5697\n",
      "Epoch 57/100\n",
      "6142/6142 [==============================] - 29s 5ms/step - loss: 1.0831 - acc: 0.5996 - val_loss: 1.2137 - val_acc: 0.5651\n",
      "Epoch 58/100\n",
      "6142/6142 [==============================] - 29s 5ms/step - loss: 1.0689 - acc: 0.6075 - val_loss: 1.1985 - val_acc: 0.5710\n",
      "Epoch 59/100\n",
      "6142/6142 [==============================] - 29s 5ms/step - loss: 1.0683 - acc: 0.6034 - val_loss: 1.2059 - val_acc: 0.5762\n",
      "Epoch 60/100\n",
      "6142/6142 [==============================] - 28s 5ms/step - loss: 1.0722 - acc: 0.6065 - val_loss: 1.2142 - val_acc: 0.5723\n",
      "Epoch 61/100\n",
      "6142/6142 [==============================] - 29s 5ms/step - loss: 1.0476 - acc: 0.6146 - val_loss: 1.2100 - val_acc: 0.5742\n",
      "Epoch 62/100\n",
      "6142/6142 [==============================] - 30s 5ms/step - loss: 1.0530 - acc: 0.6027 - val_loss: 1.2169 - val_acc: 0.5684\n",
      "Epoch 63/100\n",
      "6142/6142 [==============================] - 29s 5ms/step - loss: 1.0423 - acc: 0.6172 - val_loss: 1.2101 - val_acc: 0.5775\n",
      "Epoch 00063: early stopping\n",
      "Finish training\n"
     ]
    }
   ],
   "source": [
    "history = train(trainData, oneHotTrain, model)\n",
    "print(\"Finish training\")"
   ]
  },
  {
   "cell_type": "code",
   "execution_count": 13,
   "metadata": {
    "scrolled": true
   },
   "outputs": [
    {
     "name": "stdout",
     "output_type": "stream",
     "text": [
      "450/450 [==============================] - 1s 2ms/step\n",
      "loss, accuracy: 1.3891947831047906 0.4866666666666667\n"
     ]
    }
   ],
   "source": [
    "loss, accuracy = evaluate(validData, oneHotvalid, model)\n",
    "print(\"loss, accuracy:\", loss, accuracy)"
   ]
  },
  {
   "cell_type": "markdown",
   "metadata": {},
   "source": [
    "Predict"
   ]
  },
  {
   "cell_type": "code",
   "execution_count": 14,
   "metadata": {},
   "outputs": [
    {
     "name": "stdout",
     "output_type": "stream",
     "text": [
      "428/428 [==============================] - 1s 2ms/step\n"
     ]
    }
   ],
   "source": [
    "trackID = pd.read_csv(r\"D:\\Unimelb\\Introduction to Machine Learning\\assignment2\\dataset\\dataset\\test_features.csv\").loc[:, \"trackID\"].values.tolist()\n",
    "prediction = predict(testData, model)"
   ]
  },
  {
   "cell_type": "code",
   "execution_count": 15,
   "metadata": {},
   "outputs": [],
   "source": [
    "results_name = []\n",
    "\n",
    "for result in prediction:\n",
    "    results_name.append(classes[result])\n",
    "result = list(zip(trackID,results_name))"
   ]
  },
  {
   "cell_type": "code",
   "execution_count": 17,
   "metadata": {},
   "outputs": [],
   "source": [
    "with open(\"audio_CNN+LSTM_outPut.csv\", 'w', newline='') as csvFile:\n",
    "    writer = csv.writer(csvFile)\n",
    "    writer.writerow([\"trackID\", \"genre\"])\n",
    "    writer.writerows(result)"
   ]
  },
  {
   "cell_type": "markdown",
   "metadata": {},
   "source": [
    "train all feature\n",
    "1. 41.78\n",
    "2. 43.33\n",
    "3. 44\n",
    "4. 44.89\n",
    "5. 42.22\n",
    "6. 41.56\n",
    "7. 42.45\n",
    "8. 41.78\n",
    "9. 43.78\n",
    "10. 44.45"
   ]
  },
  {
   "cell_type": "markdown",
   "metadata": {},
   "source": [
    "train MFCCs feature\n",
    "1. 48.89\n",
    "2. 45.34\n",
    "3. 45.34\n",
    "4. 44.89\n",
    "5. 43.56\n",
    "6. 44\n",
    "7. 47.56\n",
    "8. 45.11\n",
    "9. 44.89\n",
    "10. 43.11"
   ]
  },
  {
   "cell_type": "code",
   "execution_count": null,
   "metadata": {},
   "outputs": [],
   "source": []
  }
 ],
 "metadata": {
  "kernelspec": {
   "display_name": "Python 3",
   "language": "python",
   "name": "python3"
  },
  "language_info": {
   "codemirror_mode": {
    "name": "ipython",
    "version": 3
   },
   "file_extension": ".py",
   "mimetype": "text/x-python",
   "name": "python",
   "nbconvert_exporter": "python",
   "pygments_lexer": "ipython3",
   "version": "3.6.10"
  }
 },
 "nbformat": 4,
 "nbformat_minor": 4
}

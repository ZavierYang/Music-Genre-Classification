{
 "cells": [
  {
   "cell_type": "code",
   "execution_count": 1,
   "metadata": {},
   "outputs": [
    {
     "name": "stderr",
     "output_type": "stream",
     "text": [
      "Using TensorFlow backend.\n",
      "C:\\Users\\zippy\\anaconda3\\envs\\tensorflow\\lib\\site-packages\\tensorflow\\python\\framework\\dtypes.py:526: FutureWarning: Passing (type, 1) or '1type' as a synonym of type is deprecated; in a future version of numpy, it will be understood as (type, (1,)) / '(1,)type'.\n",
      "  _np_qint8 = np.dtype([(\"qint8\", np.int8, 1)])\n",
      "C:\\Users\\zippy\\anaconda3\\envs\\tensorflow\\lib\\site-packages\\tensorflow\\python\\framework\\dtypes.py:527: FutureWarning: Passing (type, 1) or '1type' as a synonym of type is deprecated; in a future version of numpy, it will be understood as (type, (1,)) / '(1,)type'.\n",
      "  _np_quint8 = np.dtype([(\"quint8\", np.uint8, 1)])\n",
      "C:\\Users\\zippy\\anaconda3\\envs\\tensorflow\\lib\\site-packages\\tensorflow\\python\\framework\\dtypes.py:528: FutureWarning: Passing (type, 1) or '1type' as a synonym of type is deprecated; in a future version of numpy, it will be understood as (type, (1,)) / '(1,)type'.\n",
      "  _np_qint16 = np.dtype([(\"qint16\", np.int16, 1)])\n",
      "C:\\Users\\zippy\\anaconda3\\envs\\tensorflow\\lib\\site-packages\\tensorflow\\python\\framework\\dtypes.py:529: FutureWarning: Passing (type, 1) or '1type' as a synonym of type is deprecated; in a future version of numpy, it will be understood as (type, (1,)) / '(1,)type'.\n",
      "  _np_quint16 = np.dtype([(\"quint16\", np.uint16, 1)])\n",
      "C:\\Users\\zippy\\anaconda3\\envs\\tensorflow\\lib\\site-packages\\tensorflow\\python\\framework\\dtypes.py:530: FutureWarning: Passing (type, 1) or '1type' as a synonym of type is deprecated; in a future version of numpy, it will be understood as (type, (1,)) / '(1,)type'.\n",
      "  _np_qint32 = np.dtype([(\"qint32\", np.int32, 1)])\n",
      "C:\\Users\\zippy\\anaconda3\\envs\\tensorflow\\lib\\site-packages\\tensorflow\\python\\framework\\dtypes.py:535: FutureWarning: Passing (type, 1) or '1type' as a synonym of type is deprecated; in a future version of numpy, it will be understood as (type, (1,)) / '(1,)type'.\n",
      "  np_resource = np.dtype([(\"resource\", np.ubyte, 1)])\n"
     ]
    }
   ],
   "source": [
    "import pandas as pd\n",
    "import numpy as np\n",
    "import keras\n",
    "import csv\n",
    "from keras.models import Sequential\n",
    "from keras.layers.recurrent import LSTM\n",
    "from keras.layers import Dense, Dropout, Conv1D, MaxPooling1D"
   ]
  },
  {
   "cell_type": "code",
   "execution_count": 2,
   "metadata": {},
   "outputs": [],
   "source": [
    "# This function should transform data into a usable format \n",
    "def featureProcess(path):\n",
    "    data = pd.read_csv(path)\n",
    "    #get audio data from vect1 to vect148\n",
    "    featureData = data.loc[:, \"vect_1\":\"vect_148\"]\n",
    "    \n",
    "    #get feature data from loudness to vect148\n",
    "    #featureData = data.loc[:, \"loudness\":\"vect_148\"]\n",
    "    \n",
    "    # normalization\n",
    "    featureData=(featureData-featureData.mean())/featureData.std()\n",
    "    \n",
    "    return featureData.values.tolist()"
   ]
  },
  {
   "cell_type": "code",
   "execution_count": 3,
   "metadata": {},
   "outputs": [],
   "source": [
    "# This function should transform data into a usable format \n",
    "def labelProcess(path):\n",
    "    data = pd.read_csv(path)\n",
    "    #get audio data from vect1 to vect148\n",
    "    labels = data.loc[:,\"genre\"].values.tolist()\n",
    "    \n",
    "    \n",
    "    return labels"
   ]
  },
  {
   "cell_type": "code",
   "execution_count": 4,
   "metadata": {},
   "outputs": [],
   "source": [
    "def toOneHot(classes, labels):\n",
    "    one_hot_labels = []\n",
    "\n",
    "    for label in labels:\n",
    "        one_hot_vector = [0] * len(classes)\n",
    "        one_hot_vector[classes.index(label)] = 1\n",
    "\n",
    "        one_hot_labels.append(one_hot_vector)\n",
    "    return one_hot_labels"
   ]
  },
  {
   "cell_type": "code",
   "execution_count": 5,
   "metadata": {},
   "outputs": [],
   "source": [
    "def LSTMModel(trainData, trainLabel):\n",
    "    \n",
    "    num_classes = len(trainLabel[0])  # total classes to train\n",
    "    #audio feature\n",
    "    model.add(LSTM(50,  dropout=0.25, recurrent_dropout=0.25, return_sequences=False, input_shape=(148, 1), kernel_initializer=\"random_uniform\"))\n",
    "    \n",
    "    #all feature\n",
    "    #model.add(LSTM(50,  dropout=0.25, recurrent_dropout=0.25, return_sequences=False, input_shape=(154, 1), kernel_initializer=\"random_uniform\"))\n",
    "    \n",
    "    model.add(Dense(num_classes, activation=\"softmax\", kernel_initializer=\"random_uniform\"))\n",
    "    \n",
    "    model.compile(loss='categorical_crossentropy', optimizer=\"adam\", metrics=['accuracy'])\n",
    "    return model"
   ]
  },
  {
   "cell_type": "code",
   "execution_count": 6,
   "metadata": {},
   "outputs": [],
   "source": [
    "def train(trainData, trainLabel, model):\n",
    "    \n",
    "    batch_size = 32  #the number of data to feed into model per batch\n",
    "    num_epoch = 100  # go through your training data epoch times\n",
    "    \n",
    "    #callbacks stop training if val_loss is not improving.\n",
    "    callbacks = [keras.callbacks.EarlyStopping(monitor='val_loss', patience=5, verbose = 1)]\n",
    "    \n",
    "    history = model.fit(trainData, trainLabel, validation_split=0.2, epochs = num_epoch, batch_size=batch_size, verbose=1, callbacks = callbacks)\n",
    "                 \n",
    "    return history, model"
   ]
  },
  {
   "cell_type": "code",
   "execution_count": 7,
   "metadata": {},
   "outputs": [],
   "source": [
    "def evaluate(validData, validLabel, model):\n",
    "    loss, accuracy = model.evaluate(validData, validLabel)\n",
    "    return loss, accuracy"
   ]
  },
  {
   "cell_type": "code",
   "execution_count": 8,
   "metadata": {},
   "outputs": [],
   "source": [
    "def predict(testData, model):\n",
    "    result = model.predict_classes(testData, verbose=1)\n",
    "    return result"
   ]
  },
  {
   "cell_type": "code",
   "execution_count": 9,
   "metadata": {},
   "outputs": [],
   "source": [
    "trainData = np.expand_dims(np.array(featureProcess(r\"D:\\Unimelb\\Introduction to Machine Learning\\assignment2\\dataset\\dataset\\train_features.csv\")), axis=2)\n",
    "validData = np.expand_dims(np.array(featureProcess(r\"D:\\Unimelb\\Introduction to Machine Learning\\assignment2\\dataset\\dataset\\valid_features.csv\")), axis=2)\n",
    "testData = np.expand_dims(np.array(featureProcess(r\"D:\\Unimelb\\Introduction to Machine Learning\\assignment2\\dataset\\dataset\\test_features.csv\")), axis=2)"
   ]
  },
  {
   "cell_type": "code",
   "execution_count": 10,
   "metadata": {},
   "outputs": [],
   "source": [
    "trainLabel = labelProcess(r\"D:\\Unimelb\\Introduction to Machine Learning\\assignment2\\dataset\\dataset\\train_labels.csv\")\n",
    "validLabel = labelProcess(r\"D:\\Unimelb\\Introduction to Machine Learning\\assignment2\\dataset\\dataset\\valid_labels.csv\")\n",
    "#get classes\n",
    "classes = list(set(trainLabel))\n",
    "\n",
    "oneHotTrain = np.array(toOneHot(classes, trainLabel))\n",
    "oneHotvalid = np.array(toOneHot(classes, validLabel))"
   ]
  },
  {
   "cell_type": "code",
   "execution_count": 11,
   "metadata": {},
   "outputs": [
    {
     "name": "stdout",
     "output_type": "stream",
     "text": [
      "WARNING:tensorflow:From C:\\Users\\zippy\\anaconda3\\envs\\tensorflow\\lib\\site-packages\\tensorflow\\python\\framework\\op_def_library.py:263: colocate_with (from tensorflow.python.framework.ops) is deprecated and will be removed in a future version.\n",
      "Instructions for updating:\n",
      "Colocations handled automatically by placer.\n",
      "WARNING:tensorflow:From C:\\Users\\zippy\\anaconda3\\envs\\tensorflow\\lib\\site-packages\\keras\\backend\\tensorflow_backend.py:3445: calling dropout (from tensorflow.python.ops.nn_ops) with keep_prob is deprecated and will be removed in a future version.\n",
      "Instructions for updating:\n",
      "Please use `rate` instead of `keep_prob`. Rate should be set to `rate = 1 - keep_prob`.\n",
      "_________________________________________________________________\n",
      "Layer (type)                 Output Shape              Param #   \n",
      "=================================================================\n",
      "lstm_1 (LSTM)                (None, 50)                10400     \n",
      "_________________________________________________________________\n",
      "dense_1 (Dense)              (None, 8)                 408       \n",
      "=================================================================\n",
      "Total params: 10,808\n",
      "Trainable params: 10,808\n",
      "Non-trainable params: 0\n",
      "_________________________________________________________________\n"
     ]
    }
   ],
   "source": [
    "model = Sequential()\n",
    "model = LSTMModel(trainData, oneHotTrain)\n",
    "model.summary()"
   ]
  },
  {
   "cell_type": "code",
   "execution_count": 12,
   "metadata": {},
   "outputs": [
    {
     "name": "stdout",
     "output_type": "stream",
     "text": [
      "WARNING:tensorflow:From C:\\Users\\zippy\\anaconda3\\envs\\tensorflow\\lib\\site-packages\\tensorflow\\python\\ops\\math_ops.py:3066: to_int32 (from tensorflow.python.ops.math_ops) is deprecated and will be removed in a future version.\n",
      "Instructions for updating:\n",
      "Use tf.cast instead.\n",
      "Train on 6142 samples, validate on 1536 samples\n",
      "Epoch 1/100\n",
      "6142/6142 [==============================] - 60s 10ms/step - loss: 1.9535 - acc: 0.2318 - val_loss: 1.8952 - val_acc: 0.2435\n",
      "Epoch 2/100\n",
      "6142/6142 [==============================] - 57s 9ms/step - loss: 1.8913 - acc: 0.2548 - val_loss: 1.8388 - val_acc: 0.3451\n",
      "Epoch 3/100\n",
      "6142/6142 [==============================] - 56s 9ms/step - loss: 1.8536 - acc: 0.2906 - val_loss: 1.8323 - val_acc: 0.3105\n",
      "Epoch 4/100\n",
      "6142/6142 [==============================] - 54s 9ms/step - loss: 1.7907 - acc: 0.3269 - val_loss: 1.7653 - val_acc: 0.3477\n",
      "Epoch 5/100\n",
      "6142/6142 [==============================] - 53s 9ms/step - loss: 1.7338 - acc: 0.3486 - val_loss: 1.6472 - val_acc: 0.4089\n",
      "Epoch 6/100\n",
      "6142/6142 [==============================] - 54s 9ms/step - loss: 1.7115 - acc: 0.3634 - val_loss: 1.6449 - val_acc: 0.4062\n",
      "Epoch 7/100\n",
      "6142/6142 [==============================] - 53s 9ms/step - loss: 1.6990 - acc: 0.3623 - val_loss: 1.6374 - val_acc: 0.3893\n",
      "Epoch 8/100\n",
      "6142/6142 [==============================] - 54s 9ms/step - loss: 1.6951 - acc: 0.3613 - val_loss: 1.6227 - val_acc: 0.4102\n",
      "Epoch 9/100\n",
      "6142/6142 [==============================] - 53s 9ms/step - loss: 1.6735 - acc: 0.3730 - val_loss: 1.6154 - val_acc: 0.4043\n",
      "Epoch 10/100\n",
      "6142/6142 [==============================] - 54s 9ms/step - loss: 1.6733 - acc: 0.3733 - val_loss: 1.6117 - val_acc: 0.4043\n",
      "Epoch 11/100\n",
      "6142/6142 [==============================] - 53s 9ms/step - loss: 1.6593 - acc: 0.3768 - val_loss: 1.6140 - val_acc: 0.4036\n",
      "Epoch 12/100\n",
      "6142/6142 [==============================] - 54s 9ms/step - loss: 1.6546 - acc: 0.3818 - val_loss: 1.5989 - val_acc: 0.4160\n",
      "Epoch 13/100\n",
      "6142/6142 [==============================] - 53s 9ms/step - loss: 1.6597 - acc: 0.3737 - val_loss: 1.5986 - val_acc: 0.4108\n",
      "Epoch 14/100\n",
      "6142/6142 [==============================] - 54s 9ms/step - loss: 1.6488 - acc: 0.3808 - val_loss: 1.6005 - val_acc: 0.4167\n",
      "Epoch 15/100\n",
      "6142/6142 [==============================] - 53s 9ms/step - loss: 1.6480 - acc: 0.3803 - val_loss: 1.5954 - val_acc: 0.4128\n",
      "Epoch 16/100\n",
      "6142/6142 [==============================] - 54s 9ms/step - loss: 1.6440 - acc: 0.3870 - val_loss: 1.6007 - val_acc: 0.4102\n",
      "Epoch 17/100\n",
      "6142/6142 [==============================] - 53s 9ms/step - loss: 1.6343 - acc: 0.3908 - val_loss: 1.5795 - val_acc: 0.4212\n",
      "Epoch 18/100\n",
      "6142/6142 [==============================] - 54s 9ms/step - loss: 1.6365 - acc: 0.3844 - val_loss: 1.5918 - val_acc: 0.4154\n",
      "Epoch 19/100\n",
      "6142/6142 [==============================] - 53s 9ms/step - loss: 1.6316 - acc: 0.3875 - val_loss: 1.5870 - val_acc: 0.4160\n",
      "Epoch 20/100\n",
      "6142/6142 [==============================] - 56s 9ms/step - loss: 1.6289 - acc: 0.3951 - val_loss: 1.5758 - val_acc: 0.4199\n",
      "Epoch 21/100\n",
      "6142/6142 [==============================] - 57s 9ms/step - loss: 1.6249 - acc: 0.3883 - val_loss: 1.5819 - val_acc: 0.4167\n",
      "Epoch 22/100\n",
      "6142/6142 [==============================] - 56s 9ms/step - loss: 1.6227 - acc: 0.3896 - val_loss: 1.5800 - val_acc: 0.4154\n",
      "Epoch 23/100\n",
      "6142/6142 [==============================] - 57s 9ms/step - loss: 1.6193 - acc: 0.3968 - val_loss: 1.5845 - val_acc: 0.4115\n",
      "Epoch 24/100\n",
      "6142/6142 [==============================] - 56s 9ms/step - loss: 1.6132 - acc: 0.3947 - val_loss: 1.5666 - val_acc: 0.4238\n",
      "Epoch 25/100\n",
      "6142/6142 [==============================] - 56s 9ms/step - loss: 1.6204 - acc: 0.3974 - val_loss: 1.5656 - val_acc: 0.4134\n",
      "Epoch 26/100\n",
      "6142/6142 [==============================] - 57s 9ms/step - loss: 1.6209 - acc: 0.3973 - val_loss: 1.5972 - val_acc: 0.4225\n",
      "Epoch 27/100\n",
      "6142/6142 [==============================] - 57s 9ms/step - loss: 1.6118 - acc: 0.3995 - val_loss: 1.5625 - val_acc: 0.4284\n",
      "Epoch 28/100\n",
      "6142/6142 [==============================] - 57s 9ms/step - loss: 1.6102 - acc: 0.4043 - val_loss: 1.5672 - val_acc: 0.4186\n",
      "Epoch 29/100\n",
      "6142/6142 [==============================] - 56s 9ms/step - loss: 1.6106 - acc: 0.4002 - val_loss: 1.5555 - val_acc: 0.4193\n",
      "Epoch 30/100\n",
      "6142/6142 [==============================] - 57s 9ms/step - loss: 1.6055 - acc: 0.4057 - val_loss: 1.5533 - val_acc: 0.4264\n",
      "Epoch 31/100\n",
      "6142/6142 [==============================] - 56s 9ms/step - loss: 1.6099 - acc: 0.3953 - val_loss: 1.5666 - val_acc: 0.4284\n",
      "Epoch 32/100\n",
      "6142/6142 [==============================] - 56s 9ms/step - loss: 1.6067 - acc: 0.4012 - val_loss: 1.5562 - val_acc: 0.4193\n",
      "Epoch 33/100\n",
      "6142/6142 [==============================] - 57s 9ms/step - loss: 1.6008 - acc: 0.4028 - val_loss: 1.5643 - val_acc: 0.4329\n",
      "Epoch 34/100\n",
      "6142/6142 [==============================] - 57s 9ms/step - loss: 1.5973 - acc: 0.4054 - val_loss: 1.5496 - val_acc: 0.4232\n",
      "Epoch 35/100\n",
      "6142/6142 [==============================] - 56s 9ms/step - loss: 1.5881 - acc: 0.4085 - val_loss: 1.5487 - val_acc: 0.4323\n",
      "Epoch 36/100\n",
      "6142/6142 [==============================] - 56s 9ms/step - loss: 1.5935 - acc: 0.4105 - val_loss: 1.5502 - val_acc: 0.4329\n",
      "Epoch 37/100\n",
      "6142/6142 [==============================] - 55s 9ms/step - loss: 1.5956 - acc: 0.4064 - val_loss: 1.5616 - val_acc: 0.4310\n",
      "Epoch 38/100\n",
      "6142/6142 [==============================] - 55s 9ms/step - loss: 1.5800 - acc: 0.4152 - val_loss: 1.5482 - val_acc: 0.4290\n",
      "Epoch 39/100\n",
      "6142/6142 [==============================] - 59s 10ms/step - loss: 1.5885 - acc: 0.4083 - val_loss: 1.5623 - val_acc: 0.4297\n",
      "Epoch 40/100\n",
      "6142/6142 [==============================] - 53s 9ms/step - loss: 1.5905 - acc: 0.4087 - val_loss: 1.5402 - val_acc: 0.4316\n",
      "Epoch 41/100\n",
      "6142/6142 [==============================] - 54s 9ms/step - loss: 1.5869 - acc: 0.4036 - val_loss: 1.5358 - val_acc: 0.4375\n",
      "Epoch 42/100\n",
      "6142/6142 [==============================] - 54s 9ms/step - loss: 1.5790 - acc: 0.4100 - val_loss: 1.5352 - val_acc: 0.4271\n",
      "Epoch 43/100\n",
      "6142/6142 [==============================] - 54s 9ms/step - loss: 1.5792 - acc: 0.4065 - val_loss: 1.5404 - val_acc: 0.4284\n",
      "Epoch 44/100\n",
      "6142/6142 [==============================] - 54s 9ms/step - loss: 1.5802 - acc: 0.4090 - val_loss: 1.5307 - val_acc: 0.4395\n",
      "Epoch 45/100\n",
      "6142/6142 [==============================] - 54s 9ms/step - loss: 1.5693 - acc: 0.4109 - val_loss: 1.5362 - val_acc: 0.4199\n",
      "Epoch 46/100\n",
      "6142/6142 [==============================] - 54s 9ms/step - loss: 1.5730 - acc: 0.4135 - val_loss: 1.5294 - val_acc: 0.4375\n",
      "Epoch 47/100\n",
      "6142/6142 [==============================] - 55s 9ms/step - loss: 1.5706 - acc: 0.4119 - val_loss: 1.5230 - val_acc: 0.4414\n",
      "Epoch 48/100\n",
      "6142/6142 [==============================] - 54s 9ms/step - loss: 1.5671 - acc: 0.4158 - val_loss: 1.5393 - val_acc: 0.4355\n",
      "Epoch 49/100\n",
      "6142/6142 [==============================] - 54s 9ms/step - loss: 1.5714 - acc: 0.4113 - val_loss: 1.5251 - val_acc: 0.4473\n",
      "Epoch 50/100\n",
      "6142/6142 [==============================] - 54s 9ms/step - loss: 1.5617 - acc: 0.4227 - val_loss: 1.5277 - val_acc: 0.4486\n",
      "Epoch 51/100\n",
      "6142/6142 [==============================] - 54s 9ms/step - loss: 1.5706 - acc: 0.4119 - val_loss: 1.5198 - val_acc: 0.4538\n",
      "Epoch 52/100\n",
      "6142/6142 [==============================] - 54s 9ms/step - loss: 1.5677 - acc: 0.4140 - val_loss: 1.5324 - val_acc: 0.4453\n",
      "Epoch 53/100\n",
      "6142/6142 [==============================] - 53s 9ms/step - loss: 1.5680 - acc: 0.4134 - val_loss: 1.5210 - val_acc: 0.4434\n",
      "Epoch 54/100\n",
      "6142/6142 [==============================] - 54s 9ms/step - loss: 1.5657 - acc: 0.4124 - val_loss: 1.5212 - val_acc: 0.4368\n",
      "Epoch 55/100\n",
      "6142/6142 [==============================] - 53s 9ms/step - loss: 1.5623 - acc: 0.4166 - val_loss: 1.5176 - val_acc: 0.4499\n",
      "Epoch 56/100\n",
      "6142/6142 [==============================] - 54s 9ms/step - loss: 1.5596 - acc: 0.4145 - val_loss: 1.5201 - val_acc: 0.4570\n",
      "Epoch 57/100\n",
      "6142/6142 [==============================] - 54s 9ms/step - loss: 1.5561 - acc: 0.4228 - val_loss: 1.5147 - val_acc: 0.4525\n",
      "Epoch 58/100\n",
      "6142/6142 [==============================] - 55s 9ms/step - loss: 1.5546 - acc: 0.4176 - val_loss: 1.5257 - val_acc: 0.4551\n",
      "Epoch 59/100\n",
      "6142/6142 [==============================] - 53s 9ms/step - loss: 1.5531 - acc: 0.4163 - val_loss: 1.5108 - val_acc: 0.4512\n",
      "Epoch 60/100\n",
      "6142/6142 [==============================] - 54s 9ms/step - loss: 1.5499 - acc: 0.4188 - val_loss: 1.5094 - val_acc: 0.4518\n",
      "Epoch 61/100\n",
      "6142/6142 [==============================] - 54s 9ms/step - loss: 1.5543 - acc: 0.4188 - val_loss: 1.5176 - val_acc: 0.4590\n",
      "Epoch 62/100\n",
      "6142/6142 [==============================] - 53s 9ms/step - loss: 1.5455 - acc: 0.4186 - val_loss: 1.5187 - val_acc: 0.4512\n",
      "Epoch 63/100\n",
      "6142/6142 [==============================] - 53s 9ms/step - loss: 1.5463 - acc: 0.4171 - val_loss: 1.5048 - val_acc: 0.4557\n",
      "Epoch 64/100\n",
      "6142/6142 [==============================] - 54s 9ms/step - loss: 1.5453 - acc: 0.4243 - val_loss: 1.5104 - val_acc: 0.4642\n",
      "Epoch 65/100\n",
      "6142/6142 [==============================] - 53s 9ms/step - loss: 1.5447 - acc: 0.4179 - val_loss: 1.5001 - val_acc: 0.4674\n",
      "Epoch 66/100\n",
      "6142/6142 [==============================] - 54s 9ms/step - loss: 1.5449 - acc: 0.4261 - val_loss: 1.5068 - val_acc: 0.4596\n",
      "Epoch 67/100\n",
      "6142/6142 [==============================] - 54s 9ms/step - loss: 1.5492 - acc: 0.4230 - val_loss: 1.5079 - val_acc: 0.4577\n",
      "Epoch 68/100\n",
      "6142/6142 [==============================] - 54s 9ms/step - loss: 1.5387 - acc: 0.4227 - val_loss: 1.5134 - val_acc: 0.4694\n",
      "Epoch 69/100\n",
      "6142/6142 [==============================] - 55s 9ms/step - loss: 1.5443 - acc: 0.4241 - val_loss: 1.5057 - val_acc: 0.4609\n",
      "Epoch 70/100\n",
      "6142/6142 [==============================] - 54s 9ms/step - loss: 1.5449 - acc: 0.4166 - val_loss: 1.5041 - val_acc: 0.4674\n",
      "Epoch 00070: early stopping\n",
      "Finish training\n"
     ]
    }
   ],
   "source": [
    "history = train(trainData, oneHotTrain, model)\n",
    "print(\"Finish training\")"
   ]
  },
  {
   "cell_type": "code",
   "execution_count": 13,
   "metadata": {
    "scrolled": true
   },
   "outputs": [
    {
     "name": "stdout",
     "output_type": "stream",
     "text": [
      "450/450 [==============================] - 1s 3ms/step\n",
      "loss, accuracy: 1.7296871863471137 0.37555555555555553\n"
     ]
    }
   ],
   "source": [
    "loss, accuracy = evaluate(validData, oneHotvalid, model)\n",
    "print(\"loss, accuracy:\", loss, accuracy)"
   ]
  },
  {
   "cell_type": "markdown",
   "metadata": {},
   "source": [
    "Predict"
   ]
  },
  {
   "cell_type": "code",
   "execution_count": 14,
   "metadata": {},
   "outputs": [
    {
     "name": "stdout",
     "output_type": "stream",
     "text": [
      "428/428 [==============================] - 2s 4ms/step\n"
     ]
    }
   ],
   "source": [
    "trackID = pd.read_csv(r\"D:\\Unimelb\\Introduction to Machine Learning\\assignment2\\dataset\\dataset\\test_features.csv\").loc[:, \"trackID\"].values.tolist()\n",
    "prediction = predict(testData, model)"
   ]
  },
  {
   "cell_type": "code",
   "execution_count": 15,
   "metadata": {},
   "outputs": [],
   "source": [
    "results_name = []\n",
    "\n",
    "for result in prediction:\n",
    "    results_name.append(classes[result])\n",
    "    \n",
    "result = list(zip(trackID,results_name))"
   ]
  },
  {
   "cell_type": "code",
   "execution_count": 17,
   "metadata": {},
   "outputs": [],
   "source": [
    "file = \"audio_LSTM_outPut.csv\"\n",
    "#file = \"meta+audio_LSTM_outPut.csv\"\n",
    "\n",
    "with open(file, 'w', newline='') as csvFile:\n",
    "    writer = csv.writer(csvFile)\n",
    "    writer.writerow([\"trackID\", \"genre\"])\n",
    "    writer.writerows(result)"
   ]
  },
  {
   "cell_type": "markdown",
   "metadata": {},
   "source": [
    "all feature\n",
    "1. 33.56 \n",
    "2. 35.56\n",
    "3. 35.33\n",
    "4. 32.89\n",
    "5. 32.22\n",
    "6. 34.67\n",
    "7. 35.33\n",
    "8. 32.89\n",
    "9. 34.67\n",
    "10. 34"
   ]
  },
  {
   "cell_type": "markdown",
   "metadata": {
    "collapsed": true
   },
   "source": [
    "MFCCs\n",
    "1. 35.78\n",
    "2. 39.56\n",
    "3. 34.89\n",
    "4. 34.89\n",
    "5. 36\n",
    "6. 35.78\n",
    "7. 35.78\n",
    "8. 37.22\n",
    "9. 34.78\n",
    "10. 36"
   ]
  },
  {
   "cell_type": "code",
   "execution_count": null,
   "metadata": {},
   "outputs": [],
   "source": []
  }
 ],
 "metadata": {
  "kernelspec": {
   "display_name": "Python 3",
   "language": "python",
   "name": "python3"
  },
  "language_info": {
   "codemirror_mode": {
    "name": "ipython",
    "version": 3
   },
   "file_extension": ".py",
   "mimetype": "text/x-python",
   "name": "python",
   "nbconvert_exporter": "python",
   "pygments_lexer": "ipython3",
   "version": "3.6.10"
  }
 },
 "nbformat": 4,
 "nbformat_minor": 4
}
